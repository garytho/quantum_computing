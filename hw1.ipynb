{
  "nbformat": 4,
  "nbformat_minor": 0,
  "metadata": {
    "colab": {
      "name": "hw1.ipynb",
      "provenance": []
    },
    "kernelspec": {
      "name": "python3",
      "display_name": "Python 3"
    }
  },
  "cells": [
    {
      "cell_type": "markdown",
      "metadata": {
        "id": "5TdsonmM3-o1",
        "colab_type": "text"
      },
      "source": [
        "# My Solution"
      ]
    },
    {
      "cell_type": "markdown",
      "metadata": {
        "id": "Hiwk9GMZfpRl",
        "colab_type": "text"
      },
      "source": [
        "Given a matrix $M$, we must find the lowest degree nontrivial polynomial $p(X)=a_0I + a_1X + \\ldots + a_nX^n$ such that $p(M) = \\boldsymbol{0}$.  \n"
      ]
    },
    {
      "cell_type": "markdown",
      "metadata": {
        "id": "6oLBew0-gbOZ",
        "colab_type": "text"
      },
      "source": [
        "We can check if there exists an $n$ degree polynomial $p$ such that $p(M) = \\boldsymbol{0}$ by doing the following:\n",
        "\n",
        " First we compute  $\\mathrm{vec}(M^i)$ for $i=0, 1, \\ldots, n$. Then if we let the matrix $P = [\\mathrm{vec}(M^0), \\mathrm{vec}(M^1), ..., \\mathrm{vec}(M^n)]$, the null space of $P$ will contain all vectors $\\boldsymbol{x}$ such that $P\\boldsymbol{x}=\\boldsymbol{0}$. Each coefficient $x_i$ of $\\boldsymbol{x} = (x_0, \\ldots, x_n)$ will correspond to the coefficient $a_i$ of our annihilator polynomial. If the nullspace has nonzero dimension, then there exists a nontrivial annihilator polynomial.\n",
        "\n",
        "Source: MAS3106 Linear Algebra class I took."
      ]
    },
    {
      "cell_type": "markdown",
      "metadata": {
        "id": "ZtbZ2TaW4DAr",
        "colab_type": "text"
      },
      "source": [
        "# My Implementation"
      ]
    },
    {
      "cell_type": "code",
      "metadata": {
        "id": "QOPntVKXsQ70",
        "colab_type": "code",
        "colab": {}
      },
      "source": [
        "import numpy as np\n",
        "from scipy import linalg"
      ],
      "execution_count": 0,
      "outputs": []
    },
    {
      "cell_type": "markdown",
      "metadata": {
        "id": "PcVhW4YEq8rj",
        "colab_type": "text"
      },
      "source": [
        "We will use the scipy function `linalg.null_space` in order to find the nullspace of our matrices, and we will use numpy function `linalg.matrix_power` to multiply matrices. "
      ]
    },
    {
      "cell_type": "code",
      "metadata": {
        "id": "7_dhJOfYsAMk",
        "colab_type": "code",
        "colab": {}
      },
      "source": [
        "def annihilate_min_deg_poly(M):\n",
        "  matrix_size = M.shape[0] * M.shape[1]\n",
        "\n",
        "  n = 0\n",
        "\n",
        "  while True:\n",
        "\n",
        "    n += 1\n",
        "\n",
        "    #constructing vectors list\n",
        "    vec_list = []\n",
        "    for degree in range(n):\n",
        "\n",
        "      if degree == 0:\n",
        "        vec = np.identity(M.shape[0]).reshape(matrix_size, 1)\n",
        "        vec_list.append(vec)\n",
        "        \n",
        "      else:\n",
        "        vec_list.append(np.linalg.matrix_power(M, degree).reshape(matrix_size, 1))\n",
        "\n",
        "\n",
        "    #concatenate column vectors to make P\n",
        "    P = np.concatenate(vec_list, axis = 1)\n",
        "\n",
        "\n",
        "    #find basis of nullspace of P\n",
        "    basis = linalg.null_space(P)\n",
        "\n",
        "\n",
        "    #the nullspace has a basis of zero -- there is no annihilator poly of degree n\n",
        "    if basis.shape[1] == 0:\n",
        "      continue\n",
        "\n",
        "\n",
        "    #else we have a nontrivial annihilator polynomial\n",
        "    else:\n",
        "      annihilator = basis[:, 0]\n",
        "      return annihilator, n - 1\n",
        "\n",
        "#function to make printed polynomial\n",
        "def print_poly(polynomial, degree):\n",
        "  poly_str = str(polynomial[0]) + \"I + \"\n",
        "  for x in range(degree - 1):\n",
        "    poly_str = poly_str + str(polynomial[x + 1]) + \"M^\" + str(x + 1) +  \" + \"\n",
        "\n",
        "  poly_str = poly_str + str(polynomial[-1]) + \"M^\" + str(degree)\n",
        "\n",
        "  print(poly_str)\n",
        "\n"
      ],
      "execution_count": 0,
      "outputs": []
    },
    {
      "cell_type": "markdown",
      "metadata": {
        "id": "9tBTW7xG36QC",
        "colab_type": "text"
      },
      "source": [
        "# Examples"
      ]
    },
    {
      "cell_type": "markdown",
      "metadata": {
        "id": "q94ZWs0G4S7R",
        "colab_type": "text"
      },
      "source": [
        "## All zeros matrix"
      ]
    },
    {
      "cell_type": "code",
      "metadata": {
        "id": "sUomNyYa4Hib",
        "colab_type": "code",
        "outputId": "2bb92bc2-ae46-430f-b443-39041c077059",
        "colab": {
          "base_uri": "https://localhost:8080/",
          "height": 35
        }
      },
      "source": [
        "M = np.zeros((10, 10))\n",
        "poly, degree = annihilate_min_deg_poly(M)\n",
        "print_poly(poly, degree)"
      ],
      "execution_count": 0,
      "outputs": [
        {
          "output_type": "stream",
          "text": [
            "0.0I + 1.0M^1\n"
          ],
          "name": "stdout"
        }
      ]
    },
    {
      "cell_type": "markdown",
      "metadata": {
        "id": "Is4pXXP16_8o",
        "colab_type": "text"
      },
      "source": [
        "$P(M)$ equals zero because M is all zeros. It is minimal."
      ]
    },
    {
      "cell_type": "markdown",
      "metadata": {
        "id": "40eHGyvZ7FNQ",
        "colab_type": "text"
      },
      "source": [
        "## All ones matrix"
      ]
    },
    {
      "cell_type": "code",
      "metadata": {
        "id": "md1XCnTh7JdI",
        "colab_type": "code",
        "outputId": "fe4a6339-c6e7-42d4-d9dd-ce290ecc1e48",
        "colab": {
          "base_uri": "https://localhost:8080/",
          "height": 35
        }
      },
      "source": [
        "M = np.ones((10, 10))\n",
        "poly, degree = annihilate_min_deg_poly(M)\n",
        "print_poly(poly, degree)"
      ],
      "execution_count": 0,
      "outputs": [
        {
          "output_type": "stream",
          "text": [
            "0.0I + -0.9950371902099892M^1 + 0.09950371902099886M^2\n"
          ],
          "name": "stdout"
        }
      ]
    },
    {
      "cell_type": "markdown",
      "metadata": {
        "id": "S_0tmsNs7QSG",
        "colab_type": "text"
      },
      "source": [
        "$P(M)$ equals zero because $M^2_{i, j} = 10$ for all $i, j$. It is certainly the minimal degree polynomial that annihilates $M$. "
      ]
    },
    {
      "cell_type": "markdown",
      "metadata": {
        "id": "hmYDSGbhyoFO",
        "colab_type": "text"
      },
      "source": [
        "## Identity Matrix"
      ]
    },
    {
      "cell_type": "code",
      "metadata": {
        "id": "dZtKVDo3yxGJ",
        "colab_type": "code",
        "outputId": "f682864e-ecf9-4b35-f485-330b5c55aa34",
        "colab": {
          "base_uri": "https://localhost:8080/",
          "height": 35
        }
      },
      "source": [
        "M = np.identity(10)\n",
        "poly, degree = annihilate_min_deg_poly(M)\n",
        "print_poly(poly, degree)"
      ],
      "execution_count": 0,
      "outputs": [
        {
          "output_type": "stream",
          "text": [
            "0.7071067811865474I + -0.7071067811865476M^1\n"
          ],
          "name": "stdout"
        }
      ]
    },
    {
      "cell_type": "markdown",
      "metadata": {
        "id": "X701hLSXy-yB",
        "colab_type": "text"
      },
      "source": [
        "Because $M^1 = I$, this polynomial certainly equals 0. "
      ]
    },
    {
      "cell_type": "markdown",
      "metadata": {
        "id": "Mk-U8o3x8O4e",
        "colab_type": "text"
      },
      "source": [
        "## Random matrix"
      ]
    },
    {
      "cell_type": "markdown",
      "metadata": {
        "id": "pBYGoIsY8ilg",
        "colab_type": "text"
      },
      "source": [
        "We now test `annihilate_min_deg_poly` on a random matrix."
      ]
    },
    {
      "cell_type": "code",
      "metadata": {
        "id": "BHLqA7Pe8UcX",
        "colab_type": "code",
        "outputId": "0fea73c1-5363-4763-f1f0-867fdd7d9d63",
        "colab": {
          "base_uri": "https://localhost:8080/",
          "height": 377
        }
      },
      "source": [
        "M = np.random.rand(10, 10)\n",
        "print(M)"
      ],
      "execution_count": 0,
      "outputs": [
        {
          "output_type": "stream",
          "text": [
            "[[0.08782671 0.62404037 0.67029261 0.71644281 0.85334108 0.21947955\n",
            "  0.70405564 0.3406361  0.21117774 0.60744259]\n",
            " [0.21344866 0.00761562 0.73459687 0.97286326 0.0828251  0.90724462\n",
            "  0.80964266 0.74171539 0.978767   0.86047346]\n",
            " [0.4524203  0.46460814 0.90434907 0.66690435 0.54336287 0.92361576\n",
            "  0.6872051  0.69163691 0.93122799 0.07539162]\n",
            " [0.74426301 0.81417027 0.12956611 0.04056398 0.45793688 0.35314539\n",
            "  0.698681   0.75107622 0.90943182 0.34574096]\n",
            " [0.94574838 0.45370595 0.20823342 0.99733941 0.8835096  0.66835462\n",
            "  0.86753005 0.58941653 0.59584028 0.96408731]\n",
            " [0.07872155 0.38383426 0.58221132 0.15562228 0.68043906 0.43528304\n",
            "  0.45146413 0.71178975 0.50075116 0.92859018]\n",
            " [0.77929086 0.83501521 0.16917372 0.7294533  0.11080937 0.26399743\n",
            "  0.12054145 0.00794737 0.41117472 0.89749558]\n",
            " [0.6518429  0.10071601 0.06481598 0.93181169 0.32580751 0.06456124\n",
            "  0.46658803 0.64464667 0.78352919 0.11241079]\n",
            " [0.29521037 0.88805416 0.43769731 0.60679178 0.27761072 0.88856685\n",
            "  0.36570214 0.04921558 0.24963752 0.92623633]\n",
            " [0.33344982 0.71675976 0.30090165 0.79492367 0.99038762 0.39460317\n",
            "  0.80778202 0.52811766 0.87620447 0.01024656]]\n"
          ],
          "name": "stdout"
        }
      ]
    },
    {
      "cell_type": "code",
      "metadata": {
        "id": "2X8Uukva8rjp",
        "colab_type": "code",
        "outputId": "20bec976-954d-4adb-b74a-7d25ae904e07",
        "colab": {
          "base_uri": "https://localhost:8080/",
          "height": 55
        }
      },
      "source": [
        "poly, degree = annihilate_min_deg_poly(M)\n",
        "print_poly(poly, degree)"
      ],
      "execution_count": 0,
      "outputs": [
        {
          "output_type": "stream",
          "text": [
            "-0.005276315598616979I + 0.012476674876659082M^1 + 0.052973464162775624M^2 + -0.0824170996321784M^3 + -0.24166518782984092M^4 + 0.2162555362062389M^5 + 0.5218425636762374M^6 + -0.21251242525997363M^7 + -0.7141794419991834M^8 + -0.22999368330197567M^9 + 0.06796061377535073M^10\n"
          ],
          "name": "stdout"
        }
      ]
    },
    {
      "cell_type": "markdown",
      "metadata": {
        "id": "MTGbLphX0i87",
        "colab_type": "text"
      },
      "source": [
        "Curiously, every random matrix I've tested has a minimum polynomial degree of 10."
      ]
    }
  ]
}