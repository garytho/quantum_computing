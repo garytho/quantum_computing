{
  "nbformat": 4,
  "nbformat_minor": 0,
  "metadata": {
    "colab": {
      "name": "hw3.ipynb",
      "provenance": [],
      "collapsed_sections": []
    },
    "kernelspec": {
      "name": "python3",
      "display_name": "Python 3"
    }
  },
  "cells": [
    {
      "cell_type": "markdown",
      "metadata": {
        "id": "JG1XW64BG7Ol",
        "colab_type": "text"
      },
      "source": [
        "# Homework 3\n",
        "Gary Hoppenworth\n",
        "\n",
        "Sources: \n",
        "* [DFT wikipedia](https://en.wikipedia.org/wiki/Discrete_Fourier_transform)\n",
        "* homework 3 notebook\n",
        "* Deutsch-Josza IBMQ example notebook\n",
        "* Quantum Computing slides\n",
        "* [Phase Kickback -- qiskit](https://qiskit.org/textbook/ch-gates/phase-kickback.html#kickback)\n",
        "* [Quantum Phase Estimation -- wikipedia](https://en.wikipedia.org/wiki/Quantum_phase_estimation_algorithm)"
      ]
    },
    {
      "cell_type": "markdown",
      "metadata": {
        "id": "86PjKVTwoLXO",
        "colab_type": "text"
      },
      "source": [
        "# Problem 1"
      ]
    },
    {
      "cell_type": "markdown",
      "metadata": {
        "id": "Ykm0txoAoS5H",
        "colab_type": "text"
      },
      "source": [
        "## Computing the Fourier matrix $F_N$\n"
      ]
    },
    {
      "cell_type": "code",
      "metadata": {
        "id": "8pna-bGFqs7q",
        "colab_type": "code",
        "colab": {}
      },
      "source": [
        "import numpy as np\n",
        "import math\n",
        "import cmath\n",
        "\n",
        "def get_fourier_matrix(n):\n",
        "\n",
        "  fourier = np.zeros((n, n), dtype = complex)\n",
        "\n",
        "  omega = cmath.exp(-2 * 1j * math.pi / n)\n",
        "\n",
        "  for k in range(n):\n",
        "    for ell in range(n):\n",
        "      fourier[k, ell] = omega ** (k * ell)\n",
        "\n",
        "  fourier = 1 / math.sqrt(n) * fourier\n",
        "  fourier = np.matrix(fourier)\n",
        "  return fourier"
      ],
      "execution_count": 0,
      "outputs": []
    },
    {
      "cell_type": "markdown",
      "metadata": {
        "id": "R41YhKG-oYRa",
        "colab_type": "text"
      },
      "source": [
        "## Is our $F_N$ unitary?"
      ]
    },
    {
      "cell_type": "markdown",
      "metadata": {
        "id": "lpmalv0i6PnJ",
        "colab_type": "text"
      },
      "source": [
        "If our $F_N$ is unitary, then $F_N F_N^{\\dagger} = F_N^{\\dagger} F_N = I_N$, where $F_N^{\\dagger}$ is the (complex) conjugate transpose of $F_N$. I will test on $N = 5, 10$."
      ]
    },
    {
      "cell_type": "code",
      "metadata": {
        "id": "ZvQU31aL6ppI",
        "colab_type": "code",
        "outputId": "28d03d90-33e6-43e0-827b-45184a14e760",
        "colab": {
          "base_uri": "https://localhost:8080/",
          "height": 255
        }
      },
      "source": [
        "#N = 5\n",
        "\n",
        "F_5 = get_fourier_matrix(5)\n",
        "F_5_conj = F_5.getH()\n",
        "out = np.matmul(F_5, F_5_conj)\n",
        "print(\"F_5 F_5* = \")\n",
        "print(np.around(out, 2), \"\\n\\n\")\n",
        "out = np.matmul(F_5_conj, F_5)\n",
        "print(\"F_5* F_5 = \\n\", np.around(out, 2))"
      ],
      "execution_count": 2,
      "outputs": [
        {
          "output_type": "stream",
          "text": [
            "F_5 F_5* = \n",
            "[[ 1.+0.j  0.+0.j  0.+0.j  0.+0.j  0.-0.j]\n",
            " [ 0.-0.j  1.+0.j  0.+0.j -0.+0.j  0.-0.j]\n",
            " [ 0.-0.j  0.-0.j  1.+0.j  0.+0.j  0.+0.j]\n",
            " [ 0.-0.j -0.-0.j  0.-0.j  1.+0.j  0.+0.j]\n",
            " [ 0.+0.j  0.+0.j  0.-0.j  0.-0.j  1.+0.j]] \n",
            "\n",
            "\n",
            "F_5* F_5 = \n",
            " [[ 1.+0.j  0.-0.j  0.-0.j  0.-0.j  0.+0.j]\n",
            " [ 0.+0.j  1.+0.j  0.-0.j -0.-0.j  0.+0.j]\n",
            " [ 0.+0.j  0.+0.j  1.+0.j  0.-0.j  0.-0.j]\n",
            " [ 0.+0.j -0.+0.j  0.+0.j  1.+0.j  0.-0.j]\n",
            " [ 0.-0.j  0.-0.j  0.+0.j  0.+0.j  1.+0.j]]\n"
          ],
          "name": "stdout"
        }
      ]
    },
    {
      "cell_type": "code",
      "metadata": {
        "id": "VVfDldU6Cf8N",
        "colab_type": "code",
        "outputId": "8b20601f-6922-4bcb-e03b-75dde5c9ae7a",
        "colab": {
          "base_uri": "https://localhost:8080/",
          "height": 765
        }
      },
      "source": [
        "#N = 10\n",
        "\n",
        "F_10 = get_fourier_matrix(10)\n",
        "F_10_conj = F_10.getH()\n",
        "out = np.matmul(F_10, F_10_conj)\n",
        "print(\"F_10 F_10* = \")\n",
        "print(np.around(out, 2), \"\\n\\n\")\n",
        "out = np.matmul(F_10_conj, F_10)\n",
        "print(\"F_10* F_10 = \\n\", np.around(out, 2))"
      ],
      "execution_count": 3,
      "outputs": [
        {
          "output_type": "stream",
          "text": [
            "F_10 F_10* = \n",
            "[[ 1.+0.j -0.-0.j -0.-0.j -0.-0.j -0.-0.j -0.+0.j -0.+0.j -0.+0.j -0.+0.j\n",
            "  -0.+0.j]\n",
            " [-0.+0.j  1.+0.j -0.-0.j -0.-0.j -0.-0.j -0.-0.j -0.+0.j -0.+0.j -0.+0.j\n",
            "  -0.+0.j]\n",
            " [-0.+0.j -0.+0.j  1.+0.j -0.-0.j -0.-0.j -0.-0.j -0.-0.j -0.+0.j -0.+0.j\n",
            "  -0.+0.j]\n",
            " [-0.+0.j -0.+0.j -0.+0.j  1.+0.j -0.-0.j -0.-0.j -0.-0.j -0.-0.j -0.+0.j\n",
            "  -0.+0.j]\n",
            " [-0.+0.j -0.+0.j -0.+0.j -0.+0.j  1.+0.j -0.-0.j -0.-0.j -0.-0.j -0.-0.j\n",
            "  -0.+0.j]\n",
            " [-0.-0.j -0.+0.j -0.+0.j -0.+0.j -0.+0.j  1.+0.j -0.-0.j -0.-0.j -0.-0.j\n",
            "  -0.-0.j]\n",
            " [-0.-0.j -0.-0.j -0.+0.j -0.+0.j -0.+0.j -0.+0.j  1.+0.j -0.-0.j -0.-0.j\n",
            "  -0.-0.j]\n",
            " [-0.-0.j -0.-0.j -0.-0.j -0.+0.j -0.+0.j -0.+0.j -0.+0.j  1.+0.j -0.-0.j\n",
            "  -0.-0.j]\n",
            " [-0.-0.j -0.-0.j -0.-0.j -0.-0.j -0.+0.j -0.+0.j -0.+0.j -0.+0.j  1.+0.j\n",
            "  -0.-0.j]\n",
            " [-0.-0.j -0.-0.j -0.-0.j -0.-0.j -0.-0.j -0.+0.j -0.+0.j -0.+0.j -0.+0.j\n",
            "   1.+0.j]] \n",
            "\n",
            "\n",
            "F_10* F_10 = \n",
            " [[ 1.+0.j -0.+0.j -0.+0.j -0.+0.j -0.+0.j -0.-0.j -0.-0.j -0.-0.j -0.-0.j\n",
            "  -0.-0.j]\n",
            " [-0.-0.j  1.+0.j -0.+0.j -0.+0.j -0.+0.j -0.+0.j -0.-0.j -0.-0.j -0.-0.j\n",
            "  -0.-0.j]\n",
            " [-0.-0.j -0.-0.j  1.+0.j -0.+0.j -0.+0.j -0.+0.j -0.+0.j -0.-0.j -0.-0.j\n",
            "  -0.-0.j]\n",
            " [-0.-0.j -0.-0.j -0.-0.j  1.+0.j -0.+0.j -0.+0.j -0.+0.j -0.+0.j -0.-0.j\n",
            "  -0.-0.j]\n",
            " [-0.-0.j -0.-0.j -0.-0.j -0.-0.j  1.+0.j -0.+0.j -0.+0.j -0.+0.j -0.+0.j\n",
            "  -0.-0.j]\n",
            " [-0.+0.j -0.-0.j -0.-0.j -0.-0.j -0.-0.j  1.+0.j -0.+0.j -0.+0.j -0.+0.j\n",
            "  -0.+0.j]\n",
            " [-0.+0.j -0.+0.j -0.-0.j -0.-0.j -0.-0.j -0.-0.j  1.+0.j -0.+0.j -0.+0.j\n",
            "  -0.+0.j]\n",
            " [-0.+0.j -0.+0.j -0.+0.j -0.-0.j -0.-0.j -0.-0.j -0.-0.j  1.+0.j -0.+0.j\n",
            "  -0.+0.j]\n",
            " [-0.+0.j -0.+0.j -0.+0.j -0.+0.j -0.-0.j -0.-0.j -0.-0.j -0.-0.j  1.+0.j\n",
            "  -0.+0.j]\n",
            " [-0.+0.j -0.+0.j -0.+0.j -0.+0.j -0.+0.j -0.-0.j -0.-0.j -0.-0.j -0.-0.j\n",
            "   1.+0.j]]\n"
          ],
          "name": "stdout"
        }
      ]
    },
    {
      "cell_type": "markdown",
      "metadata": {
        "id": "anTQQhzxC1f8",
        "colab_type": "text"
      },
      "source": [
        "The tests show that $F_N F_N^{\\dagger} = F_N^{\\dagger} F_N = I_N$ for $N = 5, 10$, as expected."
      ]
    },
    {
      "cell_type": "markdown",
      "metadata": {
        "id": "QeRB8Kjpog3K",
        "colab_type": "text"
      },
      "source": [
        "## Is $F_N^4$ the identity matrix?"
      ]
    },
    {
      "cell_type": "markdown",
      "metadata": {
        "id": "6Zx5GOtJDJIQ",
        "colab_type": "text"
      },
      "source": [
        "We test this for $N = 5, 10$."
      ]
    },
    {
      "cell_type": "code",
      "metadata": {
        "id": "aDuGbXzXDPNJ",
        "colab_type": "code",
        "outputId": "f401a603-c6e5-4ff6-96ad-464bc249c867",
        "colab": {
          "base_uri": "https://localhost:8080/",
          "height": 119
        }
      },
      "source": [
        "from numpy.linalg import matrix_power\n",
        "print(\"F_5^4 = \")\n",
        "fourier_m = get_fourier_matrix(5)\n",
        "out = matrix_power(fourier_m, 4)\n",
        "print(np.around(out, 2))"
      ],
      "execution_count": 4,
      "outputs": [
        {
          "output_type": "stream",
          "text": [
            "F_5^4 = \n",
            "[[1.-0.j 0.+0.j 0.-0.j 0.-0.j 0.+0.j]\n",
            " [0.+0.j 1.+0.j 0.-0.j 0.-0.j 0.+0.j]\n",
            " [0.-0.j 0.-0.j 1.+0.j 0.-0.j 0.-0.j]\n",
            " [0.-0.j 0.-0.j 0.-0.j 1.+0.j 0.-0.j]\n",
            " [0.+0.j 0.+0.j 0.-0.j 0.-0.j 1.+0.j]]\n"
          ],
          "name": "stdout"
        }
      ]
    },
    {
      "cell_type": "code",
      "metadata": {
        "id": "Q6gIF5ZQEAnA",
        "colab_type": "code",
        "outputId": "f97af392-22c5-465f-af1c-8cbb64819d1f",
        "colab": {
          "base_uri": "https://localhost:8080/",
          "height": 374
        }
      },
      "source": [
        "print(\"F_10^4 = \")\n",
        "fourier_m = get_fourier_matrix(10)\n",
        "out = matrix_power(fourier_m, 4)\n",
        "print(np.around(out, 2))"
      ],
      "execution_count": 5,
      "outputs": [
        {
          "output_type": "stream",
          "text": [
            "F_10^4 = \n",
            "[[ 1.+0.j -0.-0.j -0.-0.j -0.-0.j -0.-0.j -0.-0.j -0.-0.j -0.-0.j -0.-0.j\n",
            "  -0.-0.j]\n",
            " [-0.-0.j  1.+0.j -0.+0.j -0.+0.j -0.+0.j -0.+0.j -0.-0.j -0.-0.j -0.-0.j\n",
            "  -0.-0.j]\n",
            " [-0.-0.j -0.+0.j  1.+0.j -0.+0.j -0.+0.j -0.+0.j -0.-0.j -0.-0.j -0.-0.j\n",
            "  -0.-0.j]\n",
            " [-0.-0.j -0.+0.j -0.+0.j  1.+0.j -0.+0.j -0.+0.j -0.+0.j -0.+0.j -0.-0.j\n",
            "  -0.-0.j]\n",
            " [-0.-0.j -0.+0.j -0.+0.j -0.+0.j  1.+0.j -0.+0.j -0.+0.j -0.+0.j -0.-0.j\n",
            "  -0.-0.j]\n",
            " [-0.-0.j -0.+0.j -0.+0.j -0.+0.j -0.+0.j  1.+0.j -0.+0.j -0.+0.j -0.+0.j\n",
            "  -0.+0.j]\n",
            " [-0.-0.j -0.-0.j -0.-0.j -0.+0.j -0.+0.j -0.+0.j  1.+0.j -0.+0.j -0.+0.j\n",
            "  -0.+0.j]\n",
            " [-0.-0.j -0.-0.j -0.-0.j -0.+0.j -0.+0.j -0.+0.j -0.+0.j  1.+0.j -0.+0.j\n",
            "  -0.+0.j]\n",
            " [-0.-0.j -0.-0.j -0.-0.j -0.-0.j -0.-0.j -0.+0.j -0.+0.j -0.+0.j  1.+0.j\n",
            "  -0.+0.j]\n",
            " [-0.-0.j -0.-0.j -0.-0.j -0.-0.j -0.-0.j -0.+0.j -0.+0.j -0.+0.j -0.+0.j\n",
            "   1.+0.j]]\n"
          ],
          "name": "stdout"
        }
      ]
    },
    {
      "cell_type": "markdown",
      "metadata": {
        "id": "idZCj5R8ENJN",
        "colab_type": "text"
      },
      "source": [
        "The tests show that $F_5^4 = I_5$ and $F_{10}^4 = I_{10}$ as expected."
      ]
    },
    {
      "cell_type": "markdown",
      "metadata": {
        "id": "Xa5qod5roti5",
        "colab_type": "text"
      },
      "source": [
        "## What are the eigenvalues and multiplicities of $F_N$?"
      ]
    },
    {
      "cell_type": "markdown",
      "metadata": {
        "id": "u5mZZ7ESG5Z3",
        "colab_type": "text"
      },
      "source": [
        "### The eigenvalues $\\lambda$ of $F_N$ should be in $\\{+1, -1, +i, -i\\}$. We will calculate the eigenvalues of $F_N$ for $N = 5, 10, 15, 20$."
      ]
    },
    {
      "cell_type": "markdown",
      "metadata": {
        "id": "r5JsA_BgIW0r",
        "colab_type": "text"
      },
      "source": [
        "### We now find the eigenvalues of $F_5$. Since $5 = 4m + 1$ where $m = 1$, we will expect to see that $\\lambda = +1$ has multiplicity $m+1 = 2$ and $\\lambda = -1, -i, +i$ will all have multiplicity $m = 1$."
      ]
    },
    {
      "cell_type": "code",
      "metadata": {
        "id": "E9Q9AR32Kcy7",
        "colab_type": "code",
        "outputId": "cd2644f0-036d-4b2a-cc50-93d900aef290",
        "colab": {
          "base_uri": "https://localhost:8080/",
          "height": 34
        }
      },
      "source": [
        "from numpy.linalg import eig\n",
        "\n",
        "fourier_m = get_fourier_matrix(5)\n",
        "\n",
        "eigenvals, _ = eig(fourier_m)\n",
        "print(np.sort(np.around(eigenvals, 2)))  #Prints the eigenvalues sorted by real component, with imaginary component breaking ties"
      ],
      "execution_count": 6,
      "outputs": [
        {
          "output_type": "stream",
          "text": [
            "[-1.-0.j  0.-1.j -0.+1.j  1.-0.j  1.-0.j]\n"
          ],
          "name": "stdout"
        }
      ]
    },
    {
      "cell_type": "markdown",
      "metadata": {
        "id": "u0uuOZwZOIiS",
        "colab_type": "text"
      },
      "source": [
        "The eigenvalues (and their multiplicities) are as expected!"
      ]
    },
    {
      "cell_type": "markdown",
      "metadata": {
        "id": "9_1VbOx4I4gC",
        "colab_type": "text"
      },
      "source": [
        "### We now find the eigenvalues of $F_{10}$. Since $10 = 4m + 2$ where $m = 2$, we will expect to see that $\\lambda = +1$ has multiplicity $m+1 = 3$ and $\\lambda = -1$ has multiplicity $m+1 = 3$. The eigeinvalues $\\lambda =  -i, +i$ will have multiplicity $m = 2$. "
      ]
    },
    {
      "cell_type": "code",
      "metadata": {
        "id": "eJ9ypt0CKeKE",
        "colab_type": "code",
        "outputId": "ec84ebff-e511-4e53-e8bd-bad0cc0b9988",
        "colab": {
          "base_uri": "https://localhost:8080/",
          "height": 51
        }
      },
      "source": [
        "fourier_m = get_fourier_matrix(10)\n",
        "\n",
        "eigenvals, _ = eig(fourier_m)\n",
        "print(np.sort(np.around(eigenvals, 2)))  #Prints the eigenvalues sorted by real component, with imaginary component breaking ties"
      ],
      "execution_count": 7,
      "outputs": [
        {
          "output_type": "stream",
          "text": [
            "[-1.-0.j -1.-0.j -1.-0.j  0.-1.j -0.-1.j  0.+1.j -0.+1.j  1.-0.j  1.+0.j\n",
            "  1.-0.j]\n"
          ],
          "name": "stdout"
        }
      ]
    },
    {
      "cell_type": "markdown",
      "metadata": {
        "id": "p9kg3B_DPPhK",
        "colab_type": "text"
      },
      "source": [
        "The eigenvalues (and their multiplicities) are as expected!"
      ]
    },
    {
      "cell_type": "markdown",
      "metadata": {
        "id": "I222srfZMdUf",
        "colab_type": "text"
      },
      "source": [
        "### We now find the eigenvalues of $F_{15}$. Since $15 = 4m + 3$ where $m = 3$, we will expect to see that $\\lambda = +1, -1, -i$ have multiplicity $m+1 = 4$. The remaining eigenvalue, $\\lambda = +i$ has multiplicity $m = 3$. "
      ]
    },
    {
      "cell_type": "code",
      "metadata": {
        "id": "9fdlhlMOMeJO",
        "colab_type": "code",
        "outputId": "644ff20c-fc58-4671-bb03-bd153b2a7d0f",
        "colab": {
          "base_uri": "https://localhost:8080/",
          "height": 51
        }
      },
      "source": [
        "fourier_m = get_fourier_matrix(15)\n",
        "\n",
        "eigenvals, _ = eig(fourier_m)\n",
        "\n",
        "print(np.sort(np.around(eigenvals, 2)))  #Prints the eigenvalues sorted by real component, with imaginary component breaking ties"
      ],
      "execution_count": 8,
      "outputs": [
        {
          "output_type": "stream",
          "text": [
            "[-1.+0.j -1.-0.j -1.-0.j -1.-0.j  0.-1.j  0.-1.j  0.-1.j  0.-1.j -0.+1.j\n",
            " -0.+1.j -0.+1.j  1.+0.j  1.+0.j  1.+0.j  1.+0.j]\n"
          ],
          "name": "stdout"
        }
      ]
    },
    {
      "cell_type": "markdown",
      "metadata": {
        "id": "TitUlq7gWHgP",
        "colab_type": "text"
      },
      "source": [
        "The eigenvalues (and their multiplicities) are as expected!"
      ]
    },
    {
      "cell_type": "markdown",
      "metadata": {
        "id": "W0uiTCz-MeuY",
        "colab_type": "text"
      },
      "source": [
        "### We now find the eigenvalues of $F_{20}$. Since $20 = 4m$ where $m = 5$, we will expect to see that $\\lambda =  -1, -i$ have multiplicity $m = 5$. Additionallly, $\\lambda = 1$ will have multiplicity $m+1 = 6$, and $\\lambda = +i$ will have multiplicity $m-1 = 4$."
      ]
    },
    {
      "cell_type": "code",
      "metadata": {
        "id": "xMDynysxMfDP",
        "colab_type": "code",
        "outputId": "d58cdc63-7cd0-4afc-d353-12743286fbc9",
        "colab": {
          "base_uri": "https://localhost:8080/",
          "height": 68
        }
      },
      "source": [
        "fourier_m = get_fourier_matrix(20)\n",
        "\n",
        "eigenvals, _ = eig(fourier_m)\n",
        "\n",
        "print(np.sort(np.around(eigenvals, 2)))  #Prints the eigenvalues sorted by real component, with imaginary component breaking ties"
      ],
      "execution_count": 9,
      "outputs": [
        {
          "output_type": "stream",
          "text": [
            "[-1.+0.j -1.-0.j -1.-0.j -1.-0.j -1.-0.j  0.-1.j  0.-1.j  0.-1.j -0.-1.j\n",
            "  0.-1.j -0.+1.j -0.+1.j -0.+1.j -0.+1.j  1.+0.j  1.+0.j  1.+0.j  1.+0.j\n",
            "  1.+0.j  1.+0.j]\n"
          ],
          "name": "stdout"
        }
      ]
    },
    {
      "cell_type": "markdown",
      "metadata": {
        "id": "Mgg7xxb8WSmG",
        "colab_type": "text"
      },
      "source": [
        "The eigenvalues (and their multiplicities) are as expected!"
      ]
    },
    {
      "cell_type": "markdown",
      "metadata": {
        "id": "_ZHqq2qpWTYh",
        "colab_type": "text"
      },
      "source": [
        "### We have shown that our computed $F_N$ produces the correct eigenvalues with the correct multiplicities for $N = 5, 10, 15, 20$!"
      ]
    },
    {
      "cell_type": "markdown",
      "metadata": {
        "id": "eUmkcCPuXbnv",
        "colab_type": "text"
      },
      "source": [
        "## Computing the cyclic shift matrix $P_N$"
      ]
    },
    {
      "cell_type": "code",
      "metadata": {
        "id": "NINh3VVDY1lx",
        "colab_type": "code",
        "colab": {}
      },
      "source": [
        "def get_cyclic_shift_matrix(n):\n",
        "\n",
        "  cyclic = np.zeros((n, n), dtype = complex)\n",
        "\n",
        "  for k in range(n):\n",
        "    for ell in range(n):\n",
        "\n",
        "      if ell == (k+1) % n:\n",
        "        cyclic[k, ell] = 1.0\n",
        "\n",
        "  cyclic = np.matrix(cyclic)\n",
        "  return cyclic"
      ],
      "execution_count": 0,
      "outputs": []
    },
    {
      "cell_type": "markdown",
      "metadata": {
        "id": "LTKckPanXoKj",
        "colab_type": "text"
      },
      "source": [
        "## Is our $P_N$ unitary?\n",
        "\n",
        "We check if $P_N$ is unitary for $N=5, 10$, again by checking if its conjugate transpose it its inverse."
      ]
    },
    {
      "cell_type": "code",
      "metadata": {
        "id": "5Mntp-sNZoqU",
        "colab_type": "code",
        "outputId": "ff790f62-c991-4b70-fc2d-799a6f86ba32",
        "colab": {
          "base_uri": "https://localhost:8080/",
          "height": 272
        }
      },
      "source": [
        "# N=5\n",
        "p_n = get_cyclic_shift_matrix(5)\n",
        "p_conj = np.transpose(p_n)\n",
        "print(\"P_N P_N* = \\n\")\n",
        "print(np.around(np.matmul(p_n, p_conj), 2), \"\\n\\nP_N* P_N = \\n\")\n",
        "print(np.around(np.matmul(p_conj, p_n), 2))\n"
      ],
      "execution_count": 11,
      "outputs": [
        {
          "output_type": "stream",
          "text": [
            "P_N P_N* = \n",
            "\n",
            "[[1.+0.j 0.+0.j 0.+0.j 0.+0.j 0.+0.j]\n",
            " [0.+0.j 1.+0.j 0.+0.j 0.+0.j 0.+0.j]\n",
            " [0.+0.j 0.+0.j 1.+0.j 0.+0.j 0.+0.j]\n",
            " [0.+0.j 0.+0.j 0.+0.j 1.+0.j 0.+0.j]\n",
            " [0.+0.j 0.+0.j 0.+0.j 0.+0.j 1.+0.j]] \n",
            "\n",
            "P_N* P_N = \n",
            "\n",
            "[[1.+0.j 0.+0.j 0.+0.j 0.+0.j 0.+0.j]\n",
            " [0.+0.j 1.+0.j 0.+0.j 0.+0.j 0.+0.j]\n",
            " [0.+0.j 0.+0.j 1.+0.j 0.+0.j 0.+0.j]\n",
            " [0.+0.j 0.+0.j 0.+0.j 1.+0.j 0.+0.j]\n",
            " [0.+0.j 0.+0.j 0.+0.j 0.+0.j 1.+0.j]]\n"
          ],
          "name": "stdout"
        }
      ]
    },
    {
      "cell_type": "code",
      "metadata": {
        "colab_type": "code",
        "outputId": "ca9c80d4-3b17-4e5a-d03b-e44f8af9db9a",
        "id": "K31lrELdbVVw",
        "colab": {
          "base_uri": "https://localhost:8080/",
          "height": 442
        }
      },
      "source": [
        "# N=10\n",
        "p_n = get_cyclic_shift_matrix(10)\n",
        "p_conj = np.transpose(p_n)\n",
        "print(\"P_N P_N* = \\n\")\n",
        "print(np.around(np.matmul(p_n, p_conj), 2), \"\\n\\nP_N* P_N = \\n\")\n",
        "print(np.around(np.matmul(p_conj, p_n), 2))\n"
      ],
      "execution_count": 12,
      "outputs": [
        {
          "output_type": "stream",
          "text": [
            "P_N P_N* = \n",
            "\n",
            "[[1.+0.j 0.+0.j 0.+0.j 0.+0.j 0.+0.j 0.+0.j 0.+0.j 0.+0.j 0.+0.j 0.+0.j]\n",
            " [0.+0.j 1.+0.j 0.+0.j 0.+0.j 0.+0.j 0.+0.j 0.+0.j 0.+0.j 0.+0.j 0.+0.j]\n",
            " [0.+0.j 0.+0.j 1.+0.j 0.+0.j 0.+0.j 0.+0.j 0.+0.j 0.+0.j 0.+0.j 0.+0.j]\n",
            " [0.+0.j 0.+0.j 0.+0.j 1.+0.j 0.+0.j 0.+0.j 0.+0.j 0.+0.j 0.+0.j 0.+0.j]\n",
            " [0.+0.j 0.+0.j 0.+0.j 0.+0.j 1.+0.j 0.+0.j 0.+0.j 0.+0.j 0.+0.j 0.+0.j]\n",
            " [0.+0.j 0.+0.j 0.+0.j 0.+0.j 0.+0.j 1.+0.j 0.+0.j 0.+0.j 0.+0.j 0.+0.j]\n",
            " [0.+0.j 0.+0.j 0.+0.j 0.+0.j 0.+0.j 0.+0.j 1.+0.j 0.+0.j 0.+0.j 0.+0.j]\n",
            " [0.+0.j 0.+0.j 0.+0.j 0.+0.j 0.+0.j 0.+0.j 0.+0.j 1.+0.j 0.+0.j 0.+0.j]\n",
            " [0.+0.j 0.+0.j 0.+0.j 0.+0.j 0.+0.j 0.+0.j 0.+0.j 0.+0.j 1.+0.j 0.+0.j]\n",
            " [0.+0.j 0.+0.j 0.+0.j 0.+0.j 0.+0.j 0.+0.j 0.+0.j 0.+0.j 0.+0.j 1.+0.j]] \n",
            "\n",
            "P_N* P_N = \n",
            "\n",
            "[[1.+0.j 0.+0.j 0.+0.j 0.+0.j 0.+0.j 0.+0.j 0.+0.j 0.+0.j 0.+0.j 0.+0.j]\n",
            " [0.+0.j 1.+0.j 0.+0.j 0.+0.j 0.+0.j 0.+0.j 0.+0.j 0.+0.j 0.+0.j 0.+0.j]\n",
            " [0.+0.j 0.+0.j 1.+0.j 0.+0.j 0.+0.j 0.+0.j 0.+0.j 0.+0.j 0.+0.j 0.+0.j]\n",
            " [0.+0.j 0.+0.j 0.+0.j 1.+0.j 0.+0.j 0.+0.j 0.+0.j 0.+0.j 0.+0.j 0.+0.j]\n",
            " [0.+0.j 0.+0.j 0.+0.j 0.+0.j 1.+0.j 0.+0.j 0.+0.j 0.+0.j 0.+0.j 0.+0.j]\n",
            " [0.+0.j 0.+0.j 0.+0.j 0.+0.j 0.+0.j 1.+0.j 0.+0.j 0.+0.j 0.+0.j 0.+0.j]\n",
            " [0.+0.j 0.+0.j 0.+0.j 0.+0.j 0.+0.j 0.+0.j 1.+0.j 0.+0.j 0.+0.j 0.+0.j]\n",
            " [0.+0.j 0.+0.j 0.+0.j 0.+0.j 0.+0.j 0.+0.j 0.+0.j 1.+0.j 0.+0.j 0.+0.j]\n",
            " [0.+0.j 0.+0.j 0.+0.j 0.+0.j 0.+0.j 0.+0.j 0.+0.j 0.+0.j 1.+0.j 0.+0.j]\n",
            " [0.+0.j 0.+0.j 0.+0.j 0.+0.j 0.+0.j 0.+0.j 0.+0.j 0.+0.j 0.+0.j 1.+0.j]]\n"
          ],
          "name": "stdout"
        }
      ]
    },
    {
      "cell_type": "markdown",
      "metadata": {
        "id": "ZRnodVPCbch1",
        "colab_type": "text"
      },
      "source": [
        "It appears that $P_N$ is unitary for $N = 5, 10$!"
      ]
    },
    {
      "cell_type": "markdown",
      "metadata": {
        "id": "VpyutpLfXsfP",
        "colab_type": "text"
      },
      "source": [
        "## Does $P_N^N = I_N$?\n",
        "We will test this question for $N = 5, 10$"
      ]
    },
    {
      "cell_type": "code",
      "metadata": {
        "id": "PhABnWGcbqeZ",
        "colab_type": "code",
        "outputId": "7a44cbf3-6512-4667-cadc-3fc8f7a820da",
        "colab": {
          "base_uri": "https://localhost:8080/",
          "height": 102
        }
      },
      "source": [
        "# N=5\n",
        "\n",
        "p_5 = get_cyclic_shift_matrix(5)\n",
        "\n",
        "out = np.around(matrix_power(p_5, 5), 2)\n",
        "print(out)\n"
      ],
      "execution_count": 13,
      "outputs": [
        {
          "output_type": "stream",
          "text": [
            "[[1.+0.j 0.+0.j 0.+0.j 0.+0.j 0.+0.j]\n",
            " [0.+0.j 1.+0.j 0.+0.j 0.+0.j 0.+0.j]\n",
            " [0.+0.j 0.+0.j 1.+0.j 0.+0.j 0.+0.j]\n",
            " [0.+0.j 0.+0.j 0.+0.j 1.+0.j 0.+0.j]\n",
            " [0.+0.j 0.+0.j 0.+0.j 0.+0.j 1.+0.j]]\n"
          ],
          "name": "stdout"
        }
      ]
    },
    {
      "cell_type": "code",
      "metadata": {
        "colab_type": "code",
        "id": "xeKvDLyxcCJO",
        "outputId": "901f0bd1-ec5d-4bf3-bae7-2b506b2b7088",
        "colab": {
          "base_uri": "https://localhost:8080/",
          "height": 187
        }
      },
      "source": [
        "# N=10\n",
        "\n",
        "p_10 = get_cyclic_shift_matrix(10)\n",
        "\n",
        "out = np.around(matrix_power(p_10, 10), 2)\n",
        "print(out)\n"
      ],
      "execution_count": 14,
      "outputs": [
        {
          "output_type": "stream",
          "text": [
            "[[1.+0.j 0.+0.j 0.+0.j 0.+0.j 0.+0.j 0.+0.j 0.+0.j 0.+0.j 0.+0.j 0.+0.j]\n",
            " [0.+0.j 1.+0.j 0.+0.j 0.+0.j 0.+0.j 0.+0.j 0.+0.j 0.+0.j 0.+0.j 0.+0.j]\n",
            " [0.+0.j 0.+0.j 1.+0.j 0.+0.j 0.+0.j 0.+0.j 0.+0.j 0.+0.j 0.+0.j 0.+0.j]\n",
            " [0.+0.j 0.+0.j 0.+0.j 1.+0.j 0.+0.j 0.+0.j 0.+0.j 0.+0.j 0.+0.j 0.+0.j]\n",
            " [0.+0.j 0.+0.j 0.+0.j 0.+0.j 1.+0.j 0.+0.j 0.+0.j 0.+0.j 0.+0.j 0.+0.j]\n",
            " [0.+0.j 0.+0.j 0.+0.j 0.+0.j 0.+0.j 1.+0.j 0.+0.j 0.+0.j 0.+0.j 0.+0.j]\n",
            " [0.+0.j 0.+0.j 0.+0.j 0.+0.j 0.+0.j 0.+0.j 1.+0.j 0.+0.j 0.+0.j 0.+0.j]\n",
            " [0.+0.j 0.+0.j 0.+0.j 0.+0.j 0.+0.j 0.+0.j 0.+0.j 1.+0.j 0.+0.j 0.+0.j]\n",
            " [0.+0.j 0.+0.j 0.+0.j 0.+0.j 0.+0.j 0.+0.j 0.+0.j 0.+0.j 1.+0.j 0.+0.j]\n",
            " [0.+0.j 0.+0.j 0.+0.j 0.+0.j 0.+0.j 0.+0.j 0.+0.j 0.+0.j 0.+0.j 1.+0.j]]\n"
          ],
          "name": "stdout"
        }
      ]
    },
    {
      "cell_type": "markdown",
      "metadata": {
        "id": "HcV9nMVecjY4",
        "colab_type": "text"
      },
      "source": [
        "It appears that our $P_N^N = I_N$ for $N = 5, 10$"
      ]
    },
    {
      "cell_type": "markdown",
      "metadata": {
        "id": "1ZlC4XE1X80k",
        "colab_type": "text"
      },
      "source": [
        "## Are the eigenvalues of $P_N$ the $N$th roots of unity?\n",
        "We test this for $N = 5, 10$. If $x$ is an $N$th root of unity, then by definition $x^N = 1$. "
      ]
    },
    {
      "cell_type": "code",
      "metadata": {
        "id": "WWJ9lVxWdPnj",
        "colab_type": "code",
        "outputId": "a2cb87b0-4e28-40ef-f9bb-0c89918ade18",
        "colab": {
          "base_uri": "https://localhost:8080/",
          "height": 136
        }
      },
      "source": [
        "# N = 5\n",
        "p_5 = get_cyclic_shift_matrix(5)\n",
        "eigenvals, _ = eig(p_5)\n",
        "eigenvals = eigenvals.tolist()\n",
        "\n",
        "print(\"Eigenvalues of P_5:\\n\")\n",
        "\n",
        "for val in eigenvals:\n",
        "  val_exp = np.around(val ** 5, 2)\n",
        "  print(\"lambda = \" + str(np.around(val, 2)) + \",      lambda^5 = \" + str(val_exp))\n",
        "\n"
      ],
      "execution_count": 15,
      "outputs": [
        {
          "output_type": "stream",
          "text": [
            "Eigenvalues of P_5:\n",
            "\n",
            "lambda = (-0.81+0.59j),      lambda^5 = (1-0j)\n",
            "lambda = (-0.81-0.59j),      lambda^5 = (1+0j)\n",
            "lambda = (0.31+0.95j),      lambda^5 = (1-0j)\n",
            "lambda = (0.31-0.95j),      lambda^5 = (1-0j)\n",
            "lambda = (1+0j),      lambda^5 = (1+0j)\n"
          ],
          "name": "stdout"
        }
      ]
    },
    {
      "cell_type": "code",
      "metadata": {
        "colab_type": "code",
        "outputId": "111f0ac4-c8bc-46d6-84a0-cfb2e7d77fa0",
        "id": "UlDH24jYfCYO",
        "colab": {
          "base_uri": "https://localhost:8080/",
          "height": 221
        }
      },
      "source": [
        "# N = 10\n",
        "p_10 = get_cyclic_shift_matrix(10)\n",
        "eigenvals, _ = eig(p_10)\n",
        "eigenvals = eigenvals.tolist()\n",
        "\n",
        "print(\"Eigenvalues of P_10:\\n\")\n",
        "\n",
        "for val in eigenvals:\n",
        "  val_exp = np.around(val ** 10, 2)\n",
        "  print(\"lambda = \" + str(np.around(val, 2)) + \",      lambda^10 = \" + str(val_exp))\n",
        "\n"
      ],
      "execution_count": 16,
      "outputs": [
        {
          "output_type": "stream",
          "text": [
            "Eigenvalues of P_10:\n",
            "\n",
            "lambda = (-1-0j),      lambda^10 = (1+0j)\n",
            "lambda = (-0.81+0.59j),      lambda^10 = (1-0j)\n",
            "lambda = (-0.81-0.59j),      lambda^10 = (1+0j)\n",
            "lambda = (-0.31+0.95j),      lambda^10 = (1+0j)\n",
            "lambda = (-0.31-0.95j),      lambda^10 = (1+0j)\n",
            "lambda = (0.31+0.95j),      lambda^10 = (1-0j)\n",
            "lambda = (0.31-0.95j),      lambda^10 = (1-0j)\n",
            "lambda = (0.81+0.59j),      lambda^10 = (1+0j)\n",
            "lambda = (0.81-0.59j),      lambda^10 = (1-0j)\n",
            "lambda = (1+0j),      lambda^10 = (1+0j)\n"
          ],
          "name": "stdout"
        }
      ]
    },
    {
      "cell_type": "markdown",
      "metadata": {
        "id": "RQJOHzmze4D1",
        "colab_type": "text"
      },
      "source": [
        "All eigenvalues of $P_5$ are $5$th roots of unity as expected!"
      ]
    },
    {
      "cell_type": "markdown",
      "metadata": {
        "id": "FKL7V0n-YFOE",
        "colab_type": "text"
      },
      "source": [
        "## Is $F_N^{\\dagger}P_NF_N$ diagonal?\n",
        "We test this for $N = 5, 10$."
      ]
    },
    {
      "cell_type": "code",
      "metadata": {
        "id": "uwZu6KugfbNR",
        "colab_type": "code",
        "outputId": "dfa9b811-c3ad-4fce-f977-4260ae81c8b2",
        "colab": {
          "base_uri": "https://localhost:8080/",
          "height": 102
        }
      },
      "source": [
        "#N = 5\n",
        "from numpy.linalg import inv\n",
        "p_5 = get_cyclic_shift_matrix(5)\n",
        "f_5 = get_fourier_matrix(5)\n",
        "f_5_inv = f_5.getH()\n",
        "\n",
        "product = np.matmul(f_5_inv, p_5)\n",
        "product = np.matmul(product, f_5)\n",
        "\n",
        "print(np.around(product, 2))\n"
      ],
      "execution_count": 17,
      "outputs": [
        {
          "output_type": "stream",
          "text": [
            "[[ 1.  +0.j    0.  -0.j    0.  -0.j    0.  -0.j    0.  +0.j  ]\n",
            " [-0.  +0.j    0.31-0.95j -0.  -0.j    0.  +0.j    0.  -0.j  ]\n",
            " [ 0.  +0.j    0.  +0.j   -0.81-0.59j -0.  +0.j   -0.  +0.j  ]\n",
            " [ 0.  +0.j    0.  +0.j    0.  -0.j   -0.81+0.59j  0.  +0.j  ]\n",
            " [ 0.  -0.j    0.  -0.j    0.  -0.j   -0.  -0.j    0.31+0.95j]]\n"
          ],
          "name": "stdout"
        }
      ]
    },
    {
      "cell_type": "markdown",
      "metadata": {
        "id": "9EOGOteqHPdK",
        "colab_type": "text"
      },
      "source": [
        "This matrix is diagonal, as expected! It follows that $F_5$ diagonalizes $P_5$."
      ]
    },
    {
      "cell_type": "code",
      "metadata": {
        "colab_type": "code",
        "outputId": "be057117-77c5-4595-ba42-cba290a200d2",
        "id": "AqOmsHschlcs",
        "colab": {
          "base_uri": "https://localhost:8080/",
          "height": 357
        }
      },
      "source": [
        "#N = 10\n",
        "from numpy.linalg import inv\n",
        "p_10 = get_cyclic_shift_matrix(10)\n",
        "f_10 = get_fourier_matrix(10)\n",
        "f_10_inv = f_10.getH()\n",
        "\n",
        "product = np.matmul(f_10_inv, p_10)\n",
        "product = np.matmul(product, f_10)\n",
        "\n",
        "print(np.around(product, 2))\n"
      ],
      "execution_count": 18,
      "outputs": [
        {
          "output_type": "stream",
          "text": [
            "[[ 1.  +0.j   -0.  +0.j   -0.  +0.j   -0.  +0.j   -0.  +0.j   -0.  -0.j\n",
            "  -0.  -0.j   -0.  -0.j   -0.  -0.j   -0.  -0.j  ]\n",
            " [-0.  -0.j    0.81-0.59j  0.  +0.j    0.  +0.j   -0.  +0.j   -0.  +0.j\n",
            "  -0.  +0.j   -0.  +0.j   -0.  -0.j   -0.  -0.j  ]\n",
            " [-0.  -0.j   -0.  -0.j    0.31-0.95j  0.  +0.j    0.  +0.j    0.  +0.j\n",
            "  -0.  +0.j   -0.  +0.j   -0.  +0.j   -0.  +0.j  ]\n",
            " [-0.  -0.j   -0.  +0.j   -0.  +0.j   -0.31-0.95j  0.  -0.j    0.  -0.j\n",
            "   0.  -0.j    0.  +0.j    0.  +0.j   -0.  +0.j  ]\n",
            " [-0.  -0.j   -0.  +0.j   -0.  +0.j   -0.  +0.j   -0.81-0.59j  0.  -0.j\n",
            "   0.  -0.j    0.  -0.j    0.  -0.j    0.  +0.j  ]\n",
            " [-0.  +0.j   -0.  +0.j   -0.  +0.j   -0.  +0.j   -0.  +0.j   -1.  +0.j\n",
            "   0.  -0.j    0.  -0.j    0.  -0.j    0.  -0.j  ]\n",
            " [-0.  +0.j   -0.  +0.j   -0.  +0.j    0.  +0.j    0.  +0.j    0.  +0.j\n",
            "  -0.81+0.59j -0.  -0.j   -0.  -0.j   -0.  -0.j  ]\n",
            " [-0.  +0.j   -0.  +0.j   -0.  +0.j    0.  +0.j    0.  +0.j    0.  +0.j\n",
            "   0.  +0.j   -0.31+0.95j -0.  -0.j   -0.  -0.j  ]\n",
            " [-0.  +0.j   -0.  +0.j   -0.  +0.j    0.  +0.j    0.  +0.j    0.  -0.j\n",
            "   0.  -0.j    0.  -0.j    0.31+0.95j -0.  +0.j  ]\n",
            " [-0.  +0.j    0.  +0.j   -0.  +0.j    0.  +0.j    0.  +0.j    0.  -0.j\n",
            "   0.  -0.j    0.  -0.j    0.  -0.j    0.81+0.59j]]\n"
          ],
          "name": "stdout"
        }
      ]
    },
    {
      "cell_type": "markdown",
      "metadata": {
        "id": "I1wNir48h572",
        "colab_type": "text"
      },
      "source": [
        "The above matrix is diagonal, so we have shown that $F_{10}$ diagonalizes $P_{10}$. "
      ]
    },
    {
      "cell_type": "markdown",
      "metadata": {
        "id": "Lk9jlyjuTqwO",
        "colab_type": "text"
      },
      "source": [
        "# Problem 2: Implementing the QPE circuit in IBM Q experience\n",
        "\n",
        "Here I implement the quantum phase estimation circuit with 3-bit precision. For the sake of clarity, I will define our problem here.\n",
        "\n",
        "Given a $2 \\times 2$ unitary matrix $U$ and an eigenvector $|\\psi⟩$, find the eigenphase $\\varphi \\in [0, 1)$ such that \n",
        "$$U|\\psi⟩= e^{2\\pi i\\varphi}|\\psi⟩$$\n",
        "\n",
        "\n",
        "**I will perform quantum phase estimation on the following unitary $U$ and eigenvector $|\\psi⟩$ pair:**\n",
        "\n",
        "\n",
        "* $U = R(\\pi / 2) =  \\begin{pmatrix}\n",
        "  1 & 0  \\\\\n",
        "  0 & e^{i\\pi/2}  \\\\\n",
        " \\end{pmatrix}$ and $\\psi = |1⟩$\n",
        "* Note that for the above $U$ and $\\psi$, we have that  $\\varphi = \\frac{1}{4}$.\n",
        " * This can be seen because $U|1⟩ = e^{i \\pi / 2} = e^{2 i \\pi / 4}$, so $\\varphi = 1/4$"
      ]
    },
    {
      "cell_type": "markdown",
      "metadata": {
        "id": "31yC-afXY2JG",
        "colab_type": "text"
      },
      "source": [
        "## Quantum Phase Estimation on $U = R(\\pi / 2)$ and $\\psi = |1⟩$"
      ]
    },
    {
      "cell_type": "code",
      "metadata": {
        "id": "A32k8vc-awao",
        "colab_type": "code",
        "colab": {}
      },
      "source": [
        "#pip install qiskit-terra[visualization]"
      ],
      "execution_count": 0,
      "outputs": []
    },
    {
      "cell_type": "code",
      "metadata": {
        "id": "SJqiv0UjgYAh",
        "colab_type": "code",
        "colab": {}
      },
      "source": [
        "%matplotlib inline\n",
        "#import statements taken from Deutsch-Josza example notebook\n",
        "from qiskit import QuantumCircuit, execute, Aer, IBMQ\n",
        "from qiskit.compiler import transpile, assemble\n",
        "from qiskit.tools.jupyter import *\n",
        "from qiskit.visualization import *"
      ],
      "execution_count": 0,
      "outputs": []
    },
    {
      "cell_type": "markdown",
      "metadata": {
        "id": "OjMcN_d4idmM",
        "colab_type": "text"
      },
      "source": [
        "### Prepping the three control bits and the target bit"
      ]
    },
    {
      "cell_type": "code",
      "metadata": {
        "id": "HHwwuRKL6PuF",
        "colab_type": "code",
        "colab": {
          "base_uri": "https://localhost:8080/",
          "height": 152
        },
        "outputId": "5c1b0c48-799b-46b9-8fe0-a864b4b64e89"
      },
      "source": [
        "#our quantum circuit has 4 qubits\n",
        "#one target qubit that we assume is in state \\psi\n",
        "#three working qubits we perform operations on\n",
        "\n",
        "circ = QuantumCircuit(4) \n",
        "\n",
        "#initialize the control qubits q0, q1, q2\n",
        "circ.u1(0, 0)\n",
        "circ.u1(0, 1)\n",
        "circ.u1(0, 2)\n",
        "\n",
        "#initialize target bit \\psi = |1⟩  (was originally equal to |0⟩)\n",
        "circ.x(3)\n",
        "\n",
        "# hadamard gate on the the working qubits\n",
        "circ.h(0)\n",
        "circ.h(1)\n",
        "circ.h(2)\n",
        "circ.draw()\n",
        "\n"
      ],
      "execution_count": 21,
      "outputs": [
        {
          "output_type": "execute_result",
          "data": {
            "text/html": [
              "<pre style=\"word-wrap: normal;white-space: pre;background: #fff0;line-height: 1.1;font-family: &quot;Courier New&quot;,Courier,monospace\">     ┌───────┐┌───┐\n",
              "q_0: ┤ U1(0) ├┤ H ├\n",
              "     ├───────┤├───┤\n",
              "q_1: ┤ U1(0) ├┤ H ├\n",
              "     ├───────┤├───┤\n",
              "q_2: ┤ U1(0) ├┤ H ├\n",
              "     └─┬───┬─┘└───┘\n",
              "q_3: ──┤ X ├───────\n",
              "       └───┘       </pre>"
            ],
            "text/plain": [
              "     ┌───────┐┌───┐\n",
              "q_0: ┤ U1(0) ├┤ H ├\n",
              "     ├───────┤├───┤\n",
              "q_1: ┤ U1(0) ├┤ H ├\n",
              "     ├───────┤├───┤\n",
              "q_2: ┤ U1(0) ├┤ H ├\n",
              "     └─┬───┬─┘└───┘\n",
              "q_3: ──┤ X ├───────\n",
              "       └───┘       "
            ]
          },
          "metadata": {
            "tags": []
          },
          "execution_count": 21
        }
      ]
    },
    {
      "cell_type": "markdown",
      "metadata": {
        "id": "-7xsfkAtitvE",
        "colab_type": "text"
      },
      "source": [
        "### Performing phase kickback with our unitary $U = R(\\pi / 2)$"
      ]
    },
    {
      "cell_type": "code",
      "metadata": {
        "id": "VpSkrMcX9kJ8",
        "colab_type": "code",
        "colab": {
          "base_uri": "https://localhost:8080/",
          "height": 152
        },
        "outputId": "1cdaeba9-10cf-4cf9-a169-aefa40ad2db7"
      },
      "source": [
        "#now we perform phase kickback using the controlled U1 gates\n",
        "import math\n",
        "\n",
        "#the real component of our exponent of $e$ in our Unitary U\n",
        "U_val = math.pi / 2\n",
        "\n",
        "\n",
        "#add the controlled U gates with our U_val the corresponding part of $U$\n",
        "\n",
        "#apply controlled U^2^0 gate to q2 \n",
        "circ.cu1(U_val, 2, 3)\n",
        "\n",
        "#apply controlled U^2^1 gate to q1\n",
        "circ.cu1(U_val, 1, 3)\n",
        "circ.cu1(U_val, 1, 3)\n",
        "\n",
        "#apply controlled U^2^2 gate to q0\n",
        "circ.cu1(U_val, 0, 3)\n",
        "circ.cu1(U_val, 0, 3)\n",
        "circ.cu1(U_val, 0, 3)\n",
        "circ.cu1(U_val, 0, 3)\n",
        "\n",
        "circ.draw()"
      ],
      "execution_count": 22,
      "outputs": [
        {
          "output_type": "execute_result",
          "data": {
            "text/html": [
              "<pre style=\"word-wrap: normal;white-space: pre;background: #fff0;line-height: 1.1;font-family: &quot;Courier New&quot;,Courier,monospace\">     ┌───────┐┌───┐                                                 \n",
              "q_0: ┤ U1(0) ├┤ H ├──────────────────────■──────■──────■──────■─────\n",
              "     ├───────┤├───┤                      │      │      │      │     \n",
              "q_1: ┤ U1(0) ├┤ H ├────────■──────■──────┼──────┼──────┼──────┼─────\n",
              "     ├───────┤├───┤        │      │      │      │      │      │     \n",
              "q_2: ┤ U1(0) ├┤ H ├─■──────┼──────┼──────┼──────┼──────┼──────┼─────\n",
              "     └─┬───┬─┘└───┘ │pi/2  │pi/2  │pi/2  │pi/2  │pi/2  │pi/2  │pi/2 \n",
              "q_3: ──┤ X ├────────■──────■──────■──────■──────■──────■──────■─────\n",
              "       └───┘                                                        </pre>"
            ],
            "text/plain": [
              "     ┌───────┐┌───┐                                                 \n",
              "q_0: ┤ U1(0) ├┤ H ├──────────────────────■──────■──────■──────■─────\n",
              "     ├───────┤├───┤                      │      │      │      │     \n",
              "q_1: ┤ U1(0) ├┤ H ├────────■──────■──────┼──────┼──────┼──────┼─────\n",
              "     ├───────┤├───┤        │      │      │      │      │      │     \n",
              "q_2: ┤ U1(0) ├┤ H ├─■──────┼──────┼──────┼──────┼──────┼──────┼─────\n",
              "     └─┬───┬─┘└───┘ │pi/2  │pi/2  │pi/2  │pi/2  │pi/2  │pi/2  │pi/2 \n",
              "q_3: ──┤ X ├────────■──────■──────■──────■──────■──────■──────■─────\n",
              "       └───┘                                                        "
            ]
          },
          "metadata": {
            "tags": []
          },
          "execution_count": 22
        }
      ]
    },
    {
      "cell_type": "markdown",
      "metadata": {
        "id": "cKxzCbhbiTKh",
        "colab_type": "text"
      },
      "source": [
        "### Performing Inverse Quantum Fourier Transform\n",
        "\n",
        "We need to calculate $R_2^{\\dagger}$ and $R_3^{\\dagger}$.\n",
        "\n",
        "Note that \n",
        "\n",
        "\n",
        "$$R_2 =  \\begin{pmatrix}\n",
        "  1 & 0  \\\\\n",
        "  0 & e^{i\\pi/2}  \\\\\n",
        " \\end{pmatrix} \\\\\n",
        " \\\\\n",
        " \\\\\n",
        " R_3 =  \\begin{pmatrix}\n",
        "  1 & 0  \\\\\n",
        "  0 & e^{i\\pi/4}  \\\\\n",
        " \\end{pmatrix} \\\\\n",
        " $$\n",
        "\n",
        " Since phase shifts $R_2$ and $R_3$ are unitary, we must have that $R_NR_N^{\\dagger} = I_N$. Then we must have that\n",
        "\n",
        " $$\n",
        "\\\\\n",
        " R_2^{\\dagger} = \\begin{pmatrix}\n",
        "  1 & 0  \\\\\n",
        "  0 & e^{-i\\pi/2}  \\\\\n",
        " \\end{pmatrix} \\\\\n",
        "  \\\\\n",
        " \\\\\n",
        " R_3^{\\dagger} =  \\begin{pmatrix}\n",
        "  1 & 0  \\\\\n",
        "  0 & e^{-i\\pi/4}  \\\\\n",
        " \\end{pmatrix} \\\\\n",
        " $$\n",
        "\n",
        " since $e^x * e^{-x} = e^0 = 1$ for any $x$.\n",
        "\n",
        " Then we are ready to build our inverse quantum Fourier transform!"
      ]
    },
    {
      "cell_type": "code",
      "metadata": {
        "id": "t76L-5NQbZ-H",
        "colab_type": "code",
        "colab": {
          "base_uri": "https://localhost:8080/",
          "height": 287
        },
        "outputId": "39283393-9c8d-4cbf-bc6b-6b65139ba2ae"
      },
      "source": [
        "#now we must perform the inverse quantum Fourier transform\n",
        "r2_val = -1 * math.pi / 2\n",
        "r3_val = -1 * math.pi / 4\n",
        "\n",
        "\n",
        "#first we perform hadamard on q2\n",
        "circ.h(0)\n",
        "\n",
        "#now we perform controlled R_2^{\\dagger} gate on q0 from q1\n",
        "circ.cu1(r2_val, 0, 1)\n",
        "#followed by hadamard\n",
        "circ.h(1)\n",
        "\n",
        "#now we perform controlled R_3^{\\dagger} gate on q0 from q2\n",
        "circ.cu1(r3_val, 0, 2)\n",
        "\n",
        "#now we perform controlled R_2^{\\dagger} gate on q1 from q2\n",
        "circ.cu1(r2_val, 1, 2)\n",
        "#followed by hadamard gate\n",
        "circ.h(2)\n",
        "\n",
        "circ.draw()"
      ],
      "execution_count": 23,
      "outputs": [
        {
          "output_type": "execute_result",
          "data": {
            "text/html": [
              "<pre style=\"word-wrap: normal;white-space: pre;background: #fff0;line-height: 1.1;font-family: &quot;Courier New&quot;,Courier,monospace\">     ┌───────┐┌───┐                                                 ┌───┐»\n",
              "q_0: ┤ U1(0) ├┤ H ├──────────────────────■──────■──────■──────■─────┤ H ├»\n",
              "     ├───────┤├───┤                      │      │      │      │     └───┘»\n",
              "q_1: ┤ U1(0) ├┤ H ├────────■──────■──────┼──────┼──────┼──────┼──────────»\n",
              "     ├───────┤├───┤        │      │      │      │      │      │          »\n",
              "q_2: ┤ U1(0) ├┤ H ├─■──────┼──────┼──────┼──────┼──────┼──────┼──────────»\n",
              "     └─┬───┬─┘└───┘ │pi/2  │pi/2  │pi/2  │pi/2  │pi/2  │pi/2  │pi/2      »\n",
              "q_3: ──┤ X ├────────■──────■──────■──────■──────■──────■──────■──────────»\n",
              "       └───┘                                                             »\n",
              "«                                       \n",
              "«q_0: ─■────────────■───────────────────\n",
              "«      │-pi/2 ┌───┐ │                   \n",
              "«q_1: ─■──────┤ H ├─┼───────■───────────\n",
              "«             └───┘ │-pi/4  │-pi/2 ┌───┐\n",
              "«q_2: ──────────────■───────■──────┤ H ├\n",
              "«                                  └───┘\n",
              "«q_3: ──────────────────────────────────\n",
              "«                                       </pre>"
            ],
            "text/plain": [
              "     ┌───────┐┌───┐                                                 ┌───┐»\n",
              "q_0: ┤ U1(0) ├┤ H ├──────────────────────■──────■──────■──────■─────┤ H ├»\n",
              "     ├───────┤├───┤                      │      │      │      │     └───┘»\n",
              "q_1: ┤ U1(0) ├┤ H ├────────■──────■──────┼──────┼──────┼──────┼──────────»\n",
              "     ├───────┤├───┤        │      │      │      │      │      │          »\n",
              "q_2: ┤ U1(0) ├┤ H ├─■──────┼──────┼──────┼──────┼──────┼──────┼──────────»\n",
              "     └─┬───┬─┘└───┘ │pi/2  │pi/2  │pi/2  │pi/2  │pi/2  │pi/2  │pi/2      »\n",
              "q_3: ──┤ X ├────────■──────■──────■──────■──────■──────■──────■──────────»\n",
              "       └───┘                                                             »\n",
              "«                                       \n",
              "«q_0: ─■────────────■───────────────────\n",
              "«      │-pi/2 ┌───┐ │                   \n",
              "«q_1: ─■──────┤ H ├─┼───────■───────────\n",
              "«             └───┘ │-pi/4  │-pi/2 ┌───┐\n",
              "«q_2: ──────────────■───────■──────┤ H ├\n",
              "«                                  └───┘\n",
              "«q_3: ──────────────────────────────────\n",
              "«                                       "
            ]
          },
          "metadata": {
            "tags": []
          },
          "execution_count": 23
        }
      ]
    },
    {
      "cell_type": "markdown",
      "metadata": {
        "id": "WzvQAvsVnloQ",
        "colab_type": "text"
      },
      "source": [
        "### Measuring our quantum circuit"
      ]
    },
    {
      "cell_type": "code",
      "metadata": {
        "id": "tY-ja8B2novD",
        "colab_type": "code",
        "colab": {
          "base_uri": "https://localhost:8080/",
          "height": 467
        },
        "outputId": "612cc962-a164-475a-8bec-742e3a48a180"
      },
      "source": [
        "##NOTE: code here adapted from deutsch algorithm notebook on the class repo\n",
        "\n",
        "#we only want to measure the first three qubits\n",
        "meas = QuantumCircuit(4, 3)\n",
        "\n",
        "#make a barrier to split up computation\n",
        "meas.barrier(range(3))\n",
        "\n",
        "#measure the first three qubits, put into three classical bits\n",
        "meas.measure(range(3), range(3))\n",
        "\n",
        "#actually combining our circuit + our measurement\n",
        "qc = circ + meas\n",
        "qc.draw()"
      ],
      "execution_count": 24,
      "outputs": [
        {
          "output_type": "execute_result",
          "data": {
            "text/html": [
              "<pre style=\"word-wrap: normal;white-space: pre;background: #fff0;line-height: 1.1;font-family: &quot;Courier New&quot;,Courier,monospace\">     ┌───────┐┌───┐                                                 ┌───┐»\n",
              "q_0: ┤ U1(0) ├┤ H ├──────────────────────■──────■──────■──────■─────┤ H ├»\n",
              "     ├───────┤├───┤                      │      │      │      │     └───┘»\n",
              "q_1: ┤ U1(0) ├┤ H ├────────■──────■──────┼──────┼──────┼──────┼──────────»\n",
              "     ├───────┤├───┤        │      │      │      │      │      │          »\n",
              "q_2: ┤ U1(0) ├┤ H ├─■──────┼──────┼──────┼──────┼──────┼──────┼──────────»\n",
              "     └─┬───┬─┘└───┘ │pi/2  │pi/2  │pi/2  │pi/2  │pi/2  │pi/2  │pi/2      »\n",
              "q_3: ──┤ X ├────────■──────■──────■──────■──────■──────■──────■──────────»\n",
              "       └───┘                                                             »\n",
              "c_0: ════════════════════════════════════════════════════════════════════»\n",
              "                                                                         »\n",
              "c_1: ════════════════════════════════════════════════════════════════════»\n",
              "                                                                         »\n",
              "c_2: ════════════════════════════════════════════════════════════════════»\n",
              "                                                                         »\n",
              "«                                        ░ ┌─┐      \n",
              "«q_0: ─■────────────■────────────────────░─┤M├──────\n",
              "«      │-pi/2 ┌───┐ │                    ░ └╥┘┌─┐   \n",
              "«q_1: ─■──────┤ H ├─┼───────■────────────░──╫─┤M├───\n",
              "«             └───┘ │-pi/4  │-pi/2 ┌───┐ ░  ║ └╥┘┌─┐\n",
              "«q_2: ──────────────■───────■──────┤ H ├─░──╫──╫─┤M├\n",
              "«                                  └───┘ ░  ║  ║ └╥┘\n",
              "«q_3: ──────────────────────────────────────╫──╫──╫─\n",
              "«                                           ║  ║  ║ \n",
              "«c_0: ══════════════════════════════════════╩══╬══╬═\n",
              "«                                              ║  ║ \n",
              "«c_1: ═════════════════════════════════════════╩══╬═\n",
              "«                                                 ║ \n",
              "«c_2: ════════════════════════════════════════════╩═\n",
              "«                                                   </pre>"
            ],
            "text/plain": [
              "     ┌───────┐┌───┐                                                 ┌───┐»\n",
              "q_0: ┤ U1(0) ├┤ H ├──────────────────────■──────■──────■──────■─────┤ H ├»\n",
              "     ├───────┤├───┤                      │      │      │      │     └───┘»\n",
              "q_1: ┤ U1(0) ├┤ H ├────────■──────■──────┼──────┼──────┼──────┼──────────»\n",
              "     ├───────┤├───┤        │      │      │      │      │      │          »\n",
              "q_2: ┤ U1(0) ├┤ H ├─■──────┼──────┼──────┼──────┼──────┼──────┼──────────»\n",
              "     └─┬───┬─┘└───┘ │pi/2  │pi/2  │pi/2  │pi/2  │pi/2  │pi/2  │pi/2      »\n",
              "q_3: ──┤ X ├────────■──────■──────■──────■──────■──────■──────■──────────»\n",
              "       └───┘                                                             »\n",
              "c_0: ════════════════════════════════════════════════════════════════════»\n",
              "                                                                         »\n",
              "c_1: ════════════════════════════════════════════════════════════════════»\n",
              "                                                                         »\n",
              "c_2: ════════════════════════════════════════════════════════════════════»\n",
              "                                                                         »\n",
              "«                                        ░ ┌─┐      \n",
              "«q_0: ─■────────────■────────────────────░─┤M├──────\n",
              "«      │-pi/2 ┌───┐ │                    ░ └╥┘┌─┐   \n",
              "«q_1: ─■──────┤ H ├─┼───────■────────────░──╫─┤M├───\n",
              "«             └───┘ │-pi/4  │-pi/2 ┌───┐ ░  ║ └╥┘┌─┐\n",
              "«q_2: ──────────────■───────■──────┤ H ├─░──╫──╫─┤M├\n",
              "«                                  └───┘ ░  ║  ║ └╥┘\n",
              "«q_3: ──────────────────────────────────────╫──╫──╫─\n",
              "«                                           ║  ║  ║ \n",
              "«c_0: ══════════════════════════════════════╩══╬══╬═\n",
              "«                                              ║  ║ \n",
              "«c_1: ═════════════════════════════════════════╩══╬═\n",
              "«                                                 ║ \n",
              "«c_2: ════════════════════════════════════════════╩═\n",
              "«                                                   "
            ]
          },
          "metadata": {
            "tags": []
          },
          "execution_count": 24
        }
      ]
    },
    {
      "cell_type": "markdown",
      "metadata": {
        "id": "gNZswVEYpwzs",
        "colab_type": "text"
      },
      "source": [
        "### Running our quantum circuit and evaluating the output\n",
        "\n",
        "Here we simulate our quantum circuit $1024$ times and return the outputs"
      ]
    },
    {
      "cell_type": "code",
      "metadata": {
        "id": "KPF4-MsCqMtc",
        "colab_type": "code",
        "colab": {
          "base_uri": "https://localhost:8080/",
          "height": 34
        },
        "outputId": "18a26115-a7ef-47f8-9543-e67bdd425ecb"
      },
      "source": [
        "backend_sim = Aer.get_backend('qasm_simulator')\n",
        "\n",
        "#1024 simulations\n",
        "job_sim = execute(qc, backend_sim, shots = 1024)\n",
        "\n",
        "#get results\n",
        "results_sim = job_sim.result()\n",
        "\n",
        "#print outputs along with number of occurrences\n",
        "counts = results_sim.get_counts(qc)\n",
        "print(counts)"
      ],
      "execution_count": 25,
      "outputs": [
        {
          "output_type": "stream",
          "text": [
            "{'010': 1024}\n"
          ],
          "name": "stdout"
        }
      ]
    },
    {
      "cell_type": "markdown",
      "metadata": {
        "id": "-e9vZJCQrXqJ",
        "colab_type": "text"
      },
      "source": [
        "All of the simulations of my circuit produced output `010` corresponding to the thre binary values of the three classical output bits.\n",
        "\n",
        "Note that in my quantum circuit, the most significant bit of the output corresponds to `q2`, the middle bit corresponds to `q1`, and the least significant bit to `q0`. Therefore the binary output `010` corresponds to the number $2$ in base $10$. Then our output estimate for $\\varphi$ is\n",
        "\n",
        " $$\\frac{2}{2^3} = \\frac{2}{8} = \\frac{1}{4}$$\n",
        "\n",
        "\n",
        " This is equal to the actual eigenvalue $\\varphi = 1/4$ corresponding to our chosen $U$ and $\\psi$! Our quantum phase estimation circuit behaved as expected!"
      ]
    }
  ]
}