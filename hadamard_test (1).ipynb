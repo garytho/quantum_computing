{
  "nbformat": 4,
  "nbformat_minor": 0,
  "metadata": {
    "colab": {
      "name": "hadamard_test.ipynb",
      "provenance": [],
      "collapsed_sections": []
    },
    "kernelspec": {
      "name": "python3",
      "display_name": "Python 3"
    }
  },
  "cells": [
    {
      "cell_type": "markdown",
      "metadata": {
        "id": "1t4dQAPabs7a",
        "colab_type": "text"
      },
      "source": [
        "# Hadamard Test\n",
        "Gary Hoppenworth\n"
      ]
    },
    {
      "cell_type": "markdown",
      "metadata": {
        "id": "KEwqjHH7b121",
        "colab_type": "text"
      },
      "source": [
        "## Constructing $U(\\theta)$\n",
        "We will construct our unitary to be an orthonormal matrix that rotates the input by angle $2\\pi\\theta$ for $\\theta \\in [0, 1)$. "
      ]
    },
    {
      "cell_type": "code",
      "metadata": {
        "id": "9I7ZHeMscMj_",
        "colab_type": "code",
        "colab": {}
      },
      "source": [
        "import numpy as np\n",
        "import math\n",
        "\n",
        "def build_U(theta):\n",
        "  sin_val = math.sin( 2 * math.pi * theta)\n",
        "  cos_val = math.cos(2 * math.pi * theta)\n",
        "  U = np.zeros((2, 2))\n",
        "  U[0, 0] = cos_val\n",
        "  U[1, 1] = cos_val\n",
        "  U[0, 1] = sin_val\n",
        "  U[1, 0] = -1 * sin_val\n",
        "  return U"
      ],
      "execution_count": 0,
      "outputs": []
    },
    {
      "cell_type": "markdown",
      "metadata": {
        "id": "O2ikBgUKlpT-",
        "colab_type": "text"
      },
      "source": [
        "## Performing Hadamard Test"
      ]
    },
    {
      "cell_type": "markdown",
      "metadata": {
        "id": "2iqYGu4y3gtl",
        "colab_type": "text"
      },
      "source": [
        "The function `perform_hadamard` will take as input an angle $\\theta$, used to construct the unitary U. Then the Hadamard Test will be simulated and the resulting $Pr(0)$ will be calculated and returned."
      ]
    },
    {
      "cell_type": "code",
      "metadata": {
        "id": "l4MYeZ53lsnR",
        "colab_type": "code",
        "colab": {}
      },
      "source": [
        "def perform_hadamard(theta):\n",
        "  #build unitary U\n",
        "  U = build_U(theta)\n",
        "\n",
        "  #define key constants\n",
        "  ket_0 = np.array([1, 0])\n",
        "  ket_1 = np.array([0, 1])\n",
        "  H_coeff = 1.0 / math.sqrt(2)\n",
        "\n",
        "  #|psi> is |0>\n",
        "  psi = ket_0\n",
        "\n",
        "  state = np.kron(ket_0, psi)\n",
        "\n",
        "  state = H_coeff * np.kron(ket_0 + ket_1, psi)\n",
        "\n",
        "  state = H_coeff * np.kron(ket_0, psi) + H_coeff * np.kron(ket_1, np.dot(U, psi))\n",
        "\n",
        "  state = 0.5 * np.kron(ket_0 + ket_1, psi) + 0.5 * np.kron(ket_0 - ket_1, np.dot(U, psi))\n",
        "\n",
        "  #this is |phi>\n",
        "  phi = state\n",
        "\n",
        "  #now we must calculate Pr(0) = || P|phi> || ^ 2\n",
        "  P = np.zeros((2, 2))\n",
        "  P[0, 0] = 1\n",
        "\n",
        "  I = np.identity(2)\n",
        "\n",
        "  P = np.kron(P, I)\n",
        "\n",
        "  prob = np.dot(P, phi)\n",
        "\n",
        "  final_prob = np.dot(prob, prob)\n",
        "\n",
        "  return final_prob"
      ],
      "execution_count": 0,
      "outputs": []
    },
    {
      "cell_type": "markdown",
      "metadata": {
        "id": "ocXEK5_cvhd9",
        "colab_type": "text"
      },
      "source": [
        "## Sanity Check\n",
        "We will use the formula we computed in class for the output of the Hadamard Test to quickly check the correctness of `perform_hadamard`.\n",
        "\n",
        "The expected output is\n",
        "$Pr(0) = \\frac{1}{2}(1 + Re(<\\psi | U | \\psi >))$\n",
        "\n",
        "\n"
      ]
    },
    {
      "cell_type": "markdown",
      "metadata": {
        "id": "ovsQQRSdww34",
        "colab_type": "text"
      },
      "source": [
        "### Test 1:   \n",
        "$\\theta = 0$\n"
      ]
    },
    {
      "cell_type": "code",
      "metadata": {
        "id": "PObV0Z9aw1Vi",
        "colab_type": "code",
        "colab": {
          "base_uri": "https://localhost:8080/",
          "height": 34
        },
        "outputId": "f8cab0ab-2ba4-48c3-e037-eaf8b3e26f3a"
      },
      "source": [
        "theta = 0\n",
        "\n",
        "#hadamard function\n",
        "print(perform_hadamard(theta))"
      ],
      "execution_count": 3,
      "outputs": [
        {
          "output_type": "stream",
          "text": [
            "1.0\n"
          ],
          "name": "stdout"
        }
      ]
    },
    {
      "cell_type": "code",
      "metadata": {
        "id": "ObwPUxkLxFr5",
        "colab_type": "code",
        "colab": {
          "base_uri": "https://localhost:8080/",
          "height": 34
        },
        "outputId": "b8b8fb77-51b1-4ab7-8ad8-9757ad315f17"
      },
      "source": [
        "#expected output\n",
        "psi = np.array([1, 0])\n",
        "U = build_U(theta)\n",
        "expected_output = 0.5 * ( 1 + np.dot( np.dot(psi, U), psi ) )\n",
        "print(expected_output)"
      ],
      "execution_count": 4,
      "outputs": [
        {
          "output_type": "stream",
          "text": [
            "1.0\n"
          ],
          "name": "stdout"
        }
      ]
    },
    {
      "cell_type": "markdown",
      "metadata": {
        "colab_type": "text",
        "id": "IKdVgv0v2Dv6"
      },
      "source": [
        "### Test 2:   \n",
        "$\\theta = 0.5$\n"
      ]
    },
    {
      "cell_type": "code",
      "metadata": {
        "colab_type": "code",
        "outputId": "dcb65ef2-89fc-4029-b51d-32f9d2232c4b",
        "id": "eTfOIEjH2InR",
        "colab": {
          "base_uri": "https://localhost:8080/",
          "height": 34
        }
      },
      "source": [
        "theta = 0.5\n",
        "\n",
        "#hadamard function\n",
        "print(perform_hadamard(theta))"
      ],
      "execution_count": 5,
      "outputs": [
        {
          "output_type": "stream",
          "text": [
            "3.749399456654644e-33\n"
          ],
          "name": "stdout"
        }
      ]
    },
    {
      "cell_type": "code",
      "metadata": {
        "colab_type": "code",
        "outputId": "e704b51e-0783-48d5-de20-6b30002f6a72",
        "id": "dvVyJzJC2M7s",
        "colab": {
          "base_uri": "https://localhost:8080/",
          "height": 34
        }
      },
      "source": [
        "#expected output\n",
        "psi = np.array([1, 0])\n",
        "U = build_U(theta)\n",
        "expected_output = 0.5 * ( 1 + np.dot( np.dot(psi, U), psi ) )\n",
        "print(expected_output)"
      ],
      "execution_count": 6,
      "outputs": [
        {
          "output_type": "stream",
          "text": [
            "0.0\n"
          ],
          "name": "stdout"
        }
      ]
    },
    {
      "cell_type": "markdown",
      "metadata": {
        "id": "SIZqf8RM3QrJ",
        "colab_type": "text"
      },
      "source": [
        "The `perform_hadamard` function appears to work correctly."
      ]
    },
    {
      "cell_type": "markdown",
      "metadata": {
        "id": "zSz0e9A14I2U",
        "colab_type": "text"
      },
      "source": [
        "## Plotting the dependence of $Pr(0)$ on $\\theta$"
      ]
    },
    {
      "cell_type": "code",
      "metadata": {
        "id": "lS4dS9OB5qWg",
        "colab_type": "code",
        "colab": {
          "base_uri": "https://localhost:8080/",
          "height": 383
        },
        "outputId": "2f41fe78-fd6e-4508-ea85-93de632b4277"
      },
      "source": [
        "from matplotlib import pyplot as plt\n",
        "X = np.arange(0, 1, 0.001)\n",
        "Y = np.array([float(perform_hadamard(x)) for x in X.tolist()])\n",
        "fig = plt.figure()\n",
        "ax = fig.add_axes([0, 0, 1, 1])\n",
        "ax.plot(X, Y)\n",
        "ax.set_title(\"Dependence of Probability of Output 0 on Theta\")\n",
        "ax.set_xlabel('theta')\n",
        "ax.set_ylabel('Probability of output 0')"
      ],
      "execution_count": 7,
      "outputs": [
        {
          "output_type": "execute_result",
          "data": {
            "text/plain": [
              "Text(0, 0.5, 'Probability of output 0')"
            ]
          },
          "metadata": {
            "tags": []
          },
          "execution_count": 7
        },
        {
          "output_type": "display_data",
          "data": {
            "image/png": "[encoded data removed]",
            "text/plain": [
              "<Figure size 432x288 with 1 Axes>"
            ]
          },
          "metadata": {
            "tags": []
          }
        }
      ]
    },
    {
      "cell_type": "markdown",
      "metadata": {
        "id": "9-4yoLHn8L0V",
        "colab_type": "text"
      },
      "source": [
        "To be quite honest, I do not have the intuition to determine whether or not this looks correct."
      ]
    }
  ]
}