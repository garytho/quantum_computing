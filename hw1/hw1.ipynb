{
  "nbformat": 4,
  "nbformat_minor": 0,
  "metadata": {
    "colab": {
      "name": "hw1.ipynb",
      "provenance": []
    },
    "kernelspec": {
      "name": "python3",
      "display_name": "Python 3"
    }
  },
  "cells": [
    {
      "cell_type": "markdown",
      "metadata": {
        "id": "5TdsonmM3-o1",
        "colab_type": "text"
      },
      "source": [
        "# My Solution"
      ]
    },
    {
      "cell_type": "markdown",
      "metadata": {
        "id": "Hiwk9GMZfpRl",
        "colab_type": "text"
      },
      "source": [
        "Given a matrix $M$, we must find the lowest degree nontrivial polynomial $p(X)=a_0I + a_1X + \\ldots + a_nX^n$ such that $p(M) = \\boldsymbol{0}$.  \n"
      ]
    },
    {
      "cell_type": "markdown",
      "metadata": {
        "id": "6oLBew0-gbOZ",
        "colab_type": "text"
      },
      "source": [
        "We can check if there exists an $n$ degree polynomial $p$ such that $p(M) = \\boldsymbol{0}$ by doing the following:\n",
        "\n",
        " First we compute  $\\mathrm{vec}(M^i)$ for $i=0, 1, \\ldots, n$. Then if we let the matrix $P = [\\mathrm{vec}(M^0), \\mathrm{vec}(M^1), ..., \\mathrm{vec}(M^n)]$, the null space of $P$ will contain all vectors $\\boldsymbol{x}$ such that $P\\boldsymbol{x}=\\boldsymbol{0}$. Each coefficient $x_i$ of $\\boldsymbol{x} = (x_0, \\ldots, x_n)$ will correspond to the coefficient $a_i$ of our annihilator polynomial. If the nullspace has nonzero dimension, then there exists a nontrivial annihilator polynomial.\n",
        "\n",
        "Source: MAS3106 Linear Algebra class I took."
      ]
    },
    {
      "cell_type": "markdown",
      "metadata": {
        "id": "ZtbZ2TaW4DAr",
        "colab_type": "text"
      },
      "source": [
        "# My Implementation"
      ]
    },
    {
      "cell_type": "code",
      "metadata": {
        "id": "QOPntVKXsQ70",
        "colab_type": "code",
        "colab": {}
      },
      "source": [
        "import numpy as np\n",
        "from scipy import linalg"
      ],
      "execution_count": 0,
      "outputs": []
    },
    {
      "cell_type": "markdown",
      "metadata": {
        "id": "PcVhW4YEq8rj",
        "colab_type": "text"
      },
      "source": [
        "We will use the scipy function `linalg.null_space` in order to find the nullspace of our matrices, and we will use numpy function `linalg.matrix_power` to multiply matrices. "
      ]
    },
    {
      "cell_type": "code",
      "metadata": {
        "id": "7_dhJOfYsAMk",
        "colab_type": "code",
        "colab": {}
      },
      "source": [
        "def annihilate_min_deg_poly(M):\n",
        "  matrix_size = M.shape[0] * M.shape[1]\n",
        "\n",
        "  n = 0\n",
        "\n",
        "  while True:\n",
        "\n",
        "    n += 1\n",
        "\n",
        "    #constructing vectors list\n",
        "    vec_list = []\n",
        "    for degree in range(n):\n",
        "\n",
        "      if degree == 0:\n",
        "        vec = np.identity(M.shape[0]).reshape(matrix_size, 1)\n",
        "        vec_list.append(vec)\n",
        "        \n",
        "      else:\n",
        "        vec_list.append(np.linalg.matrix_power(M, degree).reshape(matrix_size, 1))\n",
        "\n",
        "\n",
        "    #concatenate column vectors to make P\n",
        "    P = np.concatenate(vec_list, axis = 1)\n",
        "\n",
        "\n",
        "    #find basis of nullspace of P\n",
        "    basis = linalg.null_space(P)\n",
        "\n",
        "\n",
        "    #the nullspace has a basis of zero -- there is no annihilator poly of degree n\n",
        "    if basis.shape[1] == 0:\n",
        "      continue\n",
        "\n",
        "\n",
        "    #else we have a nontrivial annihilator polynomial\n",
        "    else:\n",
        "      annihilator = basis[:, 0]\n",
        "      return annihilator, n - 1\n",
        "\n",
        "#function to make printed polynomial\n",
        "def print_poly(polynomial, degree):\n",
        "  poly_str = str(polynomial[0]) + \"I + \"\n",
        "  for x in range(degree - 1):\n",
        "    poly_str = poly_str + str(polynomial[x + 1]) + \"M^\" + str(x + 1) +  \" + \"\n",
        "\n",
        "  poly_str = poly_str + str(polynomial[-1]) + \"M^\" + str(degree)\n",
        "\n",
        "  print(poly_str)\n",
        "\n"
      ],
      "execution_count": 0,
      "outputs": []
    },
    {
      "cell_type": "markdown",
      "metadata": {
        "id": "9tBTW7xG36QC",
        "colab_type": "text"
      },
      "source": [
        "# Examples"
      ]
    },
    {
      "cell_type": "markdown",
      "metadata": {
        "id": "q94ZWs0G4S7R",
        "colab_type": "text"
      },
      "source": [
        "## All zeros matrix"
      ]
    },
    {
      "cell_type": "code",
      "metadata": {
        "id": "sUomNyYa4Hib",
        "colab_type": "code",
        "colab": {
          "base_uri": "https://localhost:8080/",
          "height": 35
        },
        "outputId": "7aa64ede-1199-4939-b9ad-3e724ee93a76"
      },
      "source": [
        "M = np.zeros((10, 10))\n",
        "poly, degree = annihilate_min_deg_poly(M)\n",
        "print_poly(poly, degree)"
      ],
      "execution_count": 70,
      "outputs": [
        {
          "output_type": "stream",
          "text": [
            "0.0I + 1.0M^1\n"
          ],
          "name": "stdout"
        }
      ]
    },
    {
      "cell_type": "markdown",
      "metadata": {
        "id": "Is4pXXP16_8o",
        "colab_type": "text"
      },
      "source": [
        "This polynomial equals zero because M is all zeros. It is minimal."
      ]
    },
    {
      "cell_type": "markdown",
      "metadata": {
        "id": "40eHGyvZ7FNQ",
        "colab_type": "text"
      },
      "source": [
        "## All ones matrix"
      ]
    },
    {
      "cell_type": "code",
      "metadata": {
        "id": "md1XCnTh7JdI",
        "colab_type": "code",
        "colab": {
          "base_uri": "https://localhost:8080/",
          "height": 35
        },
        "outputId": "6438566b-5337-49fb-ead3-6cad6df00d43"
      },
      "source": [
        "M = np.ones((10, 10))\n",
        "poly, degree = annihilate_min_deg_poly(M)\n",
        "print_poly(poly, degree)"
      ],
      "execution_count": 71,
      "outputs": [
        {
          "output_type": "stream",
          "text": [
            "0.0I + -0.9950371902099892M^1 + 0.09950371902099886M^2\n"
          ],
          "name": "stdout"
        }
      ]
    },
    {
      "cell_type": "markdown",
      "metadata": {
        "id": "S_0tmsNs7QSG",
        "colab_type": "text"
      },
      "source": [
        "This polynomial equals zero because $M^2_{i, j} = 10$ for all $i, j$. It is certainly the minimal degree polynomial that annihilates $M$. "
      ]
    },
    {
      "cell_type": "markdown",
      "metadata": {
        "id": "Mk-U8o3x8O4e",
        "colab_type": "text"
      },
      "source": [
        "## Random matrix"
      ]
    },
    {
      "cell_type": "markdown",
      "metadata": {
        "id": "pBYGoIsY8ilg",
        "colab_type": "text"
      },
      "source": [
        "We now test `annihilate_min_deg_poly` on a random matrix."
      ]
    },
    {
      "cell_type": "code",
      "metadata": {
        "id": "BHLqA7Pe8UcX",
        "colab_type": "code",
        "colab": {
          "base_uri": "https://localhost:8080/",
          "height": 377
        },
        "outputId": "f1e8c808-d7bc-4f5a-a790-8962b03c8f60"
      },
      "source": [
        "M = np.random.rand(10, 10)\n",
        "print(M)"
      ],
      "execution_count": 76,
      "outputs": [
        {
          "output_type": "stream",
          "text": [
            "[[0.92889269 0.98457563 0.00888584 0.71069483 0.33464423 0.49721015\n",
            "  0.51089616 0.31180577 0.21185441 0.4329711 ]\n",
            " [0.58774655 0.06302138 0.97053121 0.08867263 0.83312836 0.96090796\n",
            "  0.44852497 0.14674253 0.7654606  0.73854548]\n",
            " [0.02573608 0.33764473 0.41422831 0.07002255 0.16425565 0.06577931\n",
            "  0.44863029 0.74209129 0.54778759 0.67642054]\n",
            " [0.34320215 0.2695997  0.82861798 0.33776289 0.49335649 0.96658511\n",
            "  0.96559654 0.13925066 0.06561821 0.35106361]\n",
            " [0.37776667 0.73480179 0.01436007 0.28742677 0.30029862 0.79846574\n",
            "  0.43177428 0.6505728  0.61913747 0.61353116]\n",
            " [0.19266813 0.58050135 0.49867754 0.45210415 0.37908927 0.29439429\n",
            "  0.14620063 0.1944787  0.6455326  0.49630504]\n",
            " [0.614975   0.33908518 0.07061195 0.24777393 0.34571417 0.09142865\n",
            "  0.00840747 0.50489057 0.77467756 0.03017634]\n",
            " [0.85955323 0.58214246 0.10545612 0.93640786 0.61637057 0.58513692\n",
            "  0.13154118 0.31117821 0.69285319 0.34044079]\n",
            " [0.57890751 0.34791795 0.18432485 0.22585179 0.98727664 0.93524622\n",
            "  0.60434032 0.77158858 0.52265653 0.18864127]\n",
            " [0.85788455 0.07732753 0.1404431  0.83145999 0.27060632 0.73312849\n",
            "  0.6489755  0.23356334 0.84884324 0.44434806]]\n"
          ],
          "name": "stdout"
        }
      ]
    },
    {
      "cell_type": "code",
      "metadata": {
        "id": "2X8Uukva8rjp",
        "colab_type": "code",
        "colab": {
          "base_uri": "https://localhost:8080/",
          "height": 55
        },
        "outputId": "9b69c1bd-bd8e-4321-ed5b-d5fa5bb6dd1c"
      },
      "source": [
        "poly, degree = annihilate_min_deg_poly(M)\n",
        "print_poly(poly, degree)"
      ],
      "execution_count": 77,
      "outputs": [
        {
          "output_type": "stream",
          "text": [
            "-0.004394568843438881I + 0.006285458196498461M^1 + 0.051150452523644516M^2 + -0.05064926982295732M^3 + 0.2221484378611541M^4 + -0.10587716988381243M^5 + -0.49113471596475533M^6 + -0.17979619833342014M^7 + -0.6111525784735037M^8 + -0.5165725276815971M^9 + 0.14249535857393208M^10\n"
          ],
          "name": "stdout"
        }
      ]
    }
  ]
}
