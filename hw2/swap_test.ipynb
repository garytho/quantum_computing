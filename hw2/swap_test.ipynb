{
  "nbformat": 4,
  "nbformat_minor": 0,
  "metadata": {
    "colab": {
      "name": "swap_test.ipynb",
      "provenance": []
    },
    "kernelspec": {
      "name": "python3",
      "display_name": "Python 3"
    }
  },
  "cells": [
    {
      "cell_type": "markdown",
      "metadata": {
        "id": "fp4g4E0p_pDv",
        "colab_type": "text"
      },
      "source": [
        "# Swap Test\n",
        "Gary Hoppenworth\n",
        "\n",
        "sources: lecture notes, slides, [wikipedia](https://en.wikipedia.org/wiki/Swap_test)"
      ]
    },
    {
      "cell_type": "markdown",
      "metadata": {
        "id": "SgDsczPfC_hO",
        "colab_type": "text"
      },
      "source": [
        "## Building $\\psi_2$ given $\\theta$"
      ]
    },
    {
      "cell_type": "code",
      "metadata": {
        "id": "0b7Gb25b9Fz6",
        "colab_type": "code",
        "colab": {}
      },
      "source": [
        "import numpy as np\n",
        "import math\n",
        "def build_psi(theta):\n",
        "  output = np.array([math.cos(2 * math.pi * theta), math.sin(2 * math.pi * theta) ])\n",
        "  return output"
      ],
      "execution_count": 0,
      "outputs": []
    },
    {
      "cell_type": "markdown",
      "metadata": {
        "id": "SBUzPTqyD2En",
        "colab_type": "text"
      },
      "source": [
        "## Performing Swap Test\n",
        "The input of `swap_test` will be a number $\\theta \\in [0, 1)$ used to construct $\\psi_2$, and the output will be the probability that \"0\" is measured."
      ]
    },
    {
      "cell_type": "code",
      "metadata": {
        "id": "8b0RpXxbD-ty",
        "colab_type": "code",
        "colab": {}
      },
      "source": [
        "def swap_test(theta):\n",
        "  ket_0 = np.array([1, 0])\n",
        "  ket_1 = np.array([0, 1])\n",
        "  psi_1 = ket_0\n",
        "  psi_2 = build_psi(theta)\n",
        "  H_coeff = 1.0 / math.sqrt(2)\n",
        "\n",
        "  #initial state is |0, psi_1, psi_2>\n",
        "  state = np.kron( np.kron(ket_0, psi_1), psi_2)\n",
        "\n",
        "  #Hadamard gate\n",
        "  state = H_coeff * (np.kron( np.kron(ket_0, psi_1), psi_2) + np.kron( np.kron(ket_1, psi_1), psi_2))\n",
        "\n",
        "  #Controlled SWAP gate\n",
        "  state = H_coeff * (np.kron( np.kron(ket_0, psi_1), psi_2) + np.kron( np.kron(ket_1, psi_2), psi_1))\n",
        "\n",
        "  #final Hadamard gate\n",
        "  state = 0.5 * (  np.kron( np.kron(ket_0, psi_1), psi_2 ) +  \n",
        "                   np.kron( np.kron(ket_1, psi_1), psi_2 ) + \n",
        "                   np.kron( np.kron(ket_0, psi_2), psi_1 ) - \n",
        "                   np.kron( np.kron(ket_1, psi_2), psi_1 )\n",
        "                 )\n",
        "   \n",
        "  #our final state\n",
        "  phi = state\n",
        "\n",
        "  #Now we must calculate the probability of measuring \"0\"\n",
        "  P = np.zeros((2, 2))\n",
        "  P[0, 0] = 1\n",
        "  I = np.identity(4)\n",
        "  P = np.kron(P, I)\n",
        "\n",
        "  prob = np.dot(P, phi)\n",
        "  final_prob = np.dot(prob, prob)\n",
        "  return final_prob"
      ],
      "execution_count": 0,
      "outputs": []
    },
    {
      "cell_type": "markdown",
      "metadata": {
        "id": "DYV6W4YyJ39M",
        "colab_type": "text"
      },
      "source": [
        "## Sanity Check\n",
        "We proved in class that $Pr(0) = \\frac{1}{2} + \\frac{1}{2} (|<\\psi_1|\\psi_2 >|^2)$"
      ]
    },
    {
      "cell_type": "markdown",
      "metadata": {
        "id": "Sm7LOe60RVJZ",
        "colab_type": "text"
      },
      "source": [
        "### Test 1: \n",
        "$\\theta = 0$"
      ]
    },
    {
      "cell_type": "code",
      "metadata": {
        "id": "R_lWeF4_Rbsi",
        "colab_type": "code",
        "colab": {
          "base_uri": "https://localhost:8080/",
          "height": 34
        },
        "outputId": "c5f9e202-7869-46db-ac60-9fc7d69adbb8"
      },
      "source": [
        "#swap_test\n",
        "theta = 0\n",
        "print(swap_test(theta))"
      ],
      "execution_count": 3,
      "outputs": [
        {
          "output_type": "stream",
          "text": [
            "1.0\n"
          ],
          "name": "stdout"
        }
      ]
    },
    {
      "cell_type": "code",
      "metadata": {
        "id": "3-qMs0l5Rskw",
        "colab_type": "code",
        "colab": {
          "base_uri": "https://localhost:8080/",
          "height": 34
        },
        "outputId": "5dcb46e5-afed-423d-be8f-b65540f70e49"
      },
      "source": [
        "#expected output\n",
        "psi_1 = np.array([1.0, 0.0])\n",
        "psi_2 = build_psi(theta)\n",
        "\n",
        "prob = 0.5 + 0.5 * float(np.dot(psi_1, psi_2)) ** 2\n",
        "print(prob)"
      ],
      "execution_count": 4,
      "outputs": [
        {
          "output_type": "stream",
          "text": [
            "1.0\n"
          ],
          "name": "stdout"
        }
      ]
    },
    {
      "cell_type": "markdown",
      "metadata": {
        "id": "svD_z8YuT36H",
        "colab_type": "text"
      },
      "source": [
        "### Test 2:\n",
        "$\\theta = 0.25$"
      ]
    },
    {
      "cell_type": "code",
      "metadata": {
        "id": "M-PMPhvjT80B",
        "colab_type": "code",
        "colab": {
          "base_uri": "https://localhost:8080/",
          "height": 34
        },
        "outputId": "054a5d8b-756d-4111-d4a5-6207c861e745"
      },
      "source": [
        "#swap_test\n",
        "theta = 0.25\n",
        "print(swap_test(theta))"
      ],
      "execution_count": 5,
      "outputs": [
        {
          "output_type": "stream",
          "text": [
            "0.5\n"
          ],
          "name": "stdout"
        }
      ]
    },
    {
      "cell_type": "code",
      "metadata": {
        "id": "zPUDfbstT_Ep",
        "colab_type": "code",
        "colab": {
          "base_uri": "https://localhost:8080/",
          "height": 34
        },
        "outputId": "7b01a7b6-376f-409c-f8f2-e948df5b427d"
      },
      "source": [
        "#expected output\n",
        "psi_1 = np.array([1.0, 0.0])\n",
        "psi_2 = build_psi(theta)\n",
        "\n",
        "prob = 0.5 + 0.5 * float(np.dot(psi_1, psi_2)) ** 2\n",
        "print(prob)"
      ],
      "execution_count": 6,
      "outputs": [
        {
          "output_type": "stream",
          "text": [
            "0.5\n"
          ],
          "name": "stdout"
        }
      ]
    },
    {
      "cell_type": "markdown",
      "metadata": {
        "id": "ssTn4qtKUM_q",
        "colab_type": "text"
      },
      "source": [
        "## Plotting the dependence of $Pr(0)$ on $\\theta$"
      ]
    },
    {
      "cell_type": "code",
      "metadata": {
        "id": "xpTXVXkkUryV",
        "colab_type": "code",
        "colab": {
          "base_uri": "https://localhost:8080/",
          "height": 383
        },
        "outputId": "8448f45b-2511-4bdc-c8f6-68d56dffb3ae"
      },
      "source": [
        "from matplotlib import pyplot as plt\n",
        "X = np.arange(0, 1, 0.001)\n",
        "Y = np.array([float(swap_test(x)) for x in X.tolist()])\n",
        "fig = plt.figure()\n",
        "ax = fig.add_axes([0, 0, 1, 1])\n",
        "ax.plot(X, Y)\n",
        "ax.set_title(\"Dependence of Probability of Output 0 on Theta\")\n",
        "ax.set_xlabel('theta')\n",
        "ax.set_ylabel('Probability of output 0')"
      ],
      "execution_count": 7,
      "outputs": [
        {
          "output_type": "execute_result",
          "data": {
            "text/plain": [
              "Text(0, 0.5, 'Probability of output 0')"
            ]
          },
          "metadata": {
            "tags": []
          },
          "execution_count": 7
        },
        {
          "output_type": "display_data",
          "data": {
            "image/png": "[encoded data removed]",
            "text/plain": [
              "<Figure size 432x288 with 1 Axes>"
            ]
          },
          "metadata": {
            "tags": []
          }
        }
      ]
    },
    {
      "cell_type": "markdown",
      "metadata": {
        "id": "2H1CC3uNU-J9",
        "colab_type": "text"
      },
      "source": [
        "This figure makes sense! When $\\theta = \\frac{1}{4} * 2 \\pi$ or $\\theta = \\frac{3}{4} * 2 \\pi$, Then $\\psi_2 = |1>$ or $\\psi_2 = -|1>$, and $\\psi_1$ and $\\psi_2$ are orthogonal, so the probability of measuring $0$ is equal $0.5$, the minimum. Likewise, when $\\theta = 0$ or $\\theta = 2 \\pi$, it follows that $\\psi_1 = \\psi_2$, and the probability of measuring $0$ is equal to $1.0$, the maximum. \n",
        "\n",
        "The Swap Test allows us to determine how *close* two quantum states $\\psi_1$ and $\\psi_2$ are, and the above graph reflects that fact."
      ]
    }
  ]
}