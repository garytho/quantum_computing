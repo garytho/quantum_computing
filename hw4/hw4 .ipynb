{
  "nbformat": 4,
  "nbformat_minor": 0,
  "metadata": {
    "colab": {
      "name": "hw4.ipynb",
      "provenance": [],
      "collapsed_sections": []
    },
    "kernelspec": {
      "name": "python3",
      "display_name": "Python 3"
    }
  },
  "cells": [
    {
      "cell_type": "markdown",
      "metadata": {
        "id": "wo4h9dcKGzoq",
        "colab_type": "text"
      },
      "source": [
        "# Homework 4\n",
        "\n",
        "Gary Hoppenworth\n",
        "\n",
        "Sources: \n",
        "* [Floyd's cycle algorithm](https://en.wikipedia.org/wiki/Cycle_detection),\n",
        "* [Pollard's $\\rho$ algorithm](https://en.wikipedia.org/wiki/Pollard%27s_rho_algorithm),\n",
        "* [multiplicative order](https://en.wikipedia.org/wiki/Multiplicative_order),\n",
        "* [multiplicative groups of integers modulo N](https://en.wikipedia.org/wiki/Multiplicative_group_of_integers_modulo_n)\n",
        "* *A First Course in Abstract Algebra-- JB Fraleigh*\n",
        "* Quantum Computing Slides -- Professor Wocjan"
      ]
    },
    {
      "cell_type": "markdown",
      "metadata": {
        "id": "VkvXicIH9lLC",
        "colab_type": "text"
      },
      "source": [
        "# Problem 1: Implementing Floyd's cycle finding algorithm\n",
        "\n",
        "The idea of Floyd's cycle finding algorithm is that if there is a cycle in a function $f$ that occurs after some point $x_0$, then there must be some $x$ such that $f^{x}(x_0) = f^{2x}(x_0)$, where $f^x$ denotes the composition of $f$ $x$ times. Once this $x$ is found, the algorithm uses some tricks to find the start of the cycle $\\mu$ and the length of the cycle $\\lambda$.  \n",
        "\n",
        "\n",
        "Note: The following implementation is based on the code presented in the Cycle Detection Algorithms wikipedia page (it is essentially the same as the code presented there, but I wrote it myself if that matters)."
      ]
    },
    {
      "cell_type": "code",
      "metadata": {
        "id": "mgxfiYvN9SCu",
        "colab_type": "code",
        "colab": {}
      },
      "source": [
        "def floyds_alg(x0, f):\n",
        "\n",
        "  slow = f(x0)\n",
        "  fast = f(f(x0))\n",
        "\n",
        "  #check if f^x(x0) = f^{2x}(x0) starting with x = 1, until true\n",
        "  while slow != fast:\n",
        "    slow = f(slow)\n",
        "    fast = f(f(fast))\n",
        "\n",
        "  #Now the idea is that the slow pointer and fast pointer are \\gnu iterations \n",
        "  #apart. The cycle length MUST be a factor of \\gnu. Then if we start the slow\n",
        "  #pointer at x0 and have the slow and fast pointer iterate through f at the\n",
        "  #same time, then the first value where slow == fast will be the first point\n",
        "  #in the cycle, since we know that once we start the cycle, slow will equal \n",
        "  #fast for the remaining iterations\n",
        "\n",
        "  slow = x0\n",
        "  while slow != fast:\n",
        "    slow = f(slow)\n",
        "    fast = f(fast)\n",
        "\n",
        "\n",
        "  #We now know that the start of the loop is the current location of slow\n",
        "  mu = slow\n",
        "\n",
        "  #Now we have the starting point \\mu of the cycle.\n",
        "  #To find the true length of the cycle (not just a factor of it like \\mu),\n",
        "  #we simply start at \\mu and iterate until we reach \\mu again.\n",
        "\n",
        "  lambda_val = 1\n",
        "  slow = f(slow)\n",
        "\n",
        "  while slow != mu:\n",
        "    slow = f(slow)\n",
        "    lambda_val += 1\n",
        "\n",
        "\n",
        "\n",
        "  return mu, lambda_val"
      ],
      "execution_count": 0,
      "outputs": []
    },
    {
      "cell_type": "markdown",
      "metadata": {
        "id": "ltr2APzeoTif",
        "colab_type": "text"
      },
      "source": [
        "## Testing my implementation"
      ]
    },
    {
      "cell_type": "markdown",
      "metadata": {
        "id": "oBSj2X1kqbS7",
        "colab_type": "text"
      },
      "source": [
        "### Test 1\n",
        "\n",
        "I define a function $f: \\{1, 2, 3, 4, 5, 6\\} \\rightarrow \\{1, 2, 3, 4, 5, 6\\}$ as follows:\n",
        "\n",
        "* $f(1) = 2$\n",
        "* $f(2) = 3$\n",
        "* $f(3) = 4$\n",
        "* $f(4) = 5$\n",
        "* $f(5) = 6$\n",
        "* $f(6) = 4$\n",
        "\n",
        "Observe that this function contains a cycle that starts at $4$ and has length $3$."
      ]
    },
    {
      "cell_type": "code",
      "metadata": {
        "id": "X3Q2_fZDqdhU",
        "colab_type": "code",
        "colab": {
          "base_uri": "https://localhost:8080/",
          "height": 0
        },
        "outputId": "0bda7b13-9dfb-443e-cf73-f87472217ac1"
      },
      "source": [
        "#the function $f$\n",
        "def f(x):\n",
        "  if x == 1:\n",
        "    return 2\n",
        "  elif x == 2:\n",
        "    return 3\n",
        "  elif x == 3:\n",
        "    return 4\n",
        "  elif x == 4:\n",
        "    return 5\n",
        "  elif x == 5:\n",
        "    return 6\n",
        "  elif x == 6:\n",
        "    return 4\n",
        "\n",
        "#initial x\n",
        "x0 = 1\n",
        "\n",
        "mu, lambda_val = floyds_alg(x0, f)\n",
        "print(\"The cycle in f starts at \", mu)\n",
        "print(\"The cycle in f has length \", lambda_val)"
      ],
      "execution_count": 2,
      "outputs": [
        {
          "output_type": "stream",
          "text": [
            "The cycle in f starts at  4\n",
            "The cycle in f has length  3\n"
          ],
          "name": "stdout"
        }
      ]
    },
    {
      "cell_type": "markdown",
      "metadata": {
        "id": "1TXJiSgrtPF5",
        "colab_type": "text"
      },
      "source": [
        "`floyds_alg` worked as expected!"
      ]
    },
    {
      "cell_type": "markdown",
      "metadata": {
        "id": "N6qGSZ62qduC",
        "colab_type": "text"
      },
      "source": [
        "### Test 2\n",
        "\n",
        "Now I devise a function $f(x)$ as follows. Let $g(x)$ be a psuedorandom integer generator that takes a seed $x$ and outputs a 'random' integer between $1$ and $1000$. Note that $g$ is well-defined, since $g$ will have the same output on the same seed. Now we define our function $f(x)$ as\n",
        "$$f(x) = g(x) \\mbox{ mod } 111$$.\n",
        "\n",
        "Now since $f(x)$ can only take on $111$ unique values, there will be some $i \\neq j$ such that $f^i(x) = f^j(x)$. Then $f$ will contain a loop, since each value of $f$ depends only on its input $x$. This function $f(x)$ was inspired by a similar function used in Pollard's $\\rho$ algorithm.\n"
      ]
    },
    {
      "cell_type": "code",
      "metadata": {
        "id": "GjKpAIGmu__v",
        "colab_type": "code",
        "colab": {
          "base_uri": "https://localhost:8080/",
          "height": 221
        },
        "outputId": "9b6ba9d0-cf9c-451e-a580-f79569a5a572"
      },
      "source": [
        "from random import seed, randint\n",
        "\n",
        "#   our function $g(x)$ that takes a seed x, and returns the 'random' number between\n",
        "#   1 and 1000 corresponding to that seed\n",
        "def g(x):\n",
        "  seed(x)\n",
        "  return randint(1, 1000)\n",
        "\n",
        "\n",
        "#   our function f that on input x, returns g(x) modulo 20.\n",
        "#   we will print f(out) at each step so we can verify that \n",
        "#   `floyds_alg` is behaving correctly.\n",
        "\n",
        "def f(x):\n",
        "  g_out = g(x)\n",
        "  f_out = g_out % 111\n",
        "  return f_out\n",
        "\n",
        "\n",
        "#CHANGE THIS VALUE TO TRY A NEW ITERATION SEQUENCE\n",
        "x0 = 2\n",
        "\n",
        "mu, lambda_val = floyds_alg(x0, f)\n",
        "\n",
        "\n",
        "#We now print out the values of $f$ to verify that `floyds_alg` is working\n",
        "x = x0\n",
        "cycle_started = False\n",
        "\n",
        "#we iteratively compute and print f(x) until f(x) = \\mu, and the cycle has started\n",
        "while not cycle_started:\n",
        "    if x == mu:\n",
        "      cycle_started = True\n",
        "    f_out = f(x)\n",
        "    print(\"f(\" + str(x) + \") \\t = \\t \" + str(f_out))\n",
        "    x = f_out\n",
        "\n",
        "#then we iteratively print more values of our iteration until we have performed\n",
        "#one loop\n",
        "for i in range(lambda_val):\n",
        "    f_out = f(x)\n",
        "    print(\"f(\" + str(x) + \") \\t = \\t \" + str(f_out))\n",
        "    x = f_out\n",
        "\n",
        "print(\"\\nThe cycle starts at \" + str(mu)  + \", and the cycle has length \" + str(lambda_val))"
      ],
      "execution_count": 3,
      "outputs": [
        {
          "output_type": "stream",
          "text": [
            "f(2) \t = \t 91\n",
            "f(91) \t = \t 86\n",
            "f(86) \t = \t 34\n",
            "f(34) \t = \t 98\n",
            "f(98) \t = \t 32\n",
            "f(32) \t = \t 80\n",
            "f(80) \t = \t 57\n",
            "f(57) \t = \t 44\n",
            "f(44) \t = \t 86\n",
            "f(86) \t = \t 34\n",
            "\n",
            "The cycle starts at 86, and the cycle has length 7\n"
          ],
          "name": "stdout"
        }
      ]
    },
    {
      "cell_type": "markdown",
      "metadata": {
        "id": "JtPBU9zKw2tY",
        "colab_type": "text"
      },
      "source": [
        "So far I have tested `floyds_alg` on inputs `x0 = 2, 24, 96` and it appears to work on function $f$. The average number of iterations before $f$ enters a loop seems surprisingly low, considering that $f$ takes on $111$ different values. Perhaps this has to do with how the random seed works.\n",
        "\n",
        "**You may experiment by trying different values of `x0` or even changing the modulo number from $111$**."
      ]
    },
    {
      "cell_type": "markdown",
      "metadata": {
        "id": "KYmReGmi9np0",
        "colab_type": "text"
      },
      "source": [
        "# Problem 2: implementing `find_order`\n",
        " \n",
        "\n",
        "\n"
      ]
    },
    {
      "cell_type": "markdown",
      "metadata": {
        "id": "uwP594oO9KZt",
        "colab_type": "text"
      },
      "source": [
        "\n",
        "We say that the (multiplicative) order $r$ of   $a\\mbox{ mod }N$ is the the smallest positive integer $r$ such that $a^r \\equiv 1 \\mbox{ mod } N$.\n",
        "\n",
        "**NOTE: This algorithm assumes that $a$ and $N$ are coprime. This is because if $a$ and $N$ are not coprime, then the multiplicative order of $a \\mbox{ mod }N$ does not exist. This can be seen because in the ring of integers modulo $N$, the\n",
        " elements $x$ that are coprime with $N$ are exactly the elements of the ring with a multiplicative inverse ([source](https://en.wikipedia.org/wiki/Multiplicative_group_of_integers_modulo_n)).**\n",
        "\n",
        "By our assumption that $a$ is coprime to $N$, we have that for all $x \\in \\mathbb{N}$, the congruence class $a^x \\mbox{ mod } N$ corresponds to an element of the multiplicative group of integers modulo $N$ (written as $(\\mathbb{Z} / N \\mathbb{Z})^{\\times}$). We will use this fact later.\n",
        "\n",
        "\n",
        "To use Floyd's cycle finding algorithm to find the order $r$, we define the function \n",
        "\n",
        "$$f(x) = ax \\mbox{ mod } N$$\n",
        "\n",
        "Note that $f(1) = a \\mbox{ mod } N$. Now suppose that $f^x(1) = a \\mbox{ mod } N$ for some $x > 1$. Then we have\n",
        "\n",
        "$$\n",
        "f(1) = f^x(1) \\\\\n",
        "a \\mbox{ mod } N = a^x \\mbox{ mod } N \\\\\n",
        "\\mbox{Then by the cancellation property of groups...}\\\\\n",
        "aa^{-1} \\mbox{ mod } N = a^xa^{-1} \\mbox{ mod } N \\\\\n",
        "1 \\mbox{ mod } N = a^{x-1} \\mbox{ mod } N \\\\\n",
        "$$\n",
        "\n",
        "So if $x$ is the least $x>1$ such that $f^x(1) = a \\mbox{ mod } N$, then $x-1$ is the least positive integer such that $f^{x-1}(1) = 1 \\mbox{ mod } N$. It follows that $ r = x-1$.\n",
        "\n",
        "In other words, we simply need to find the length $\\lambda$ of the cycle in function $f(x)$ in order to find our multiplicative order $r$.\n",
        "\n",
        "\n",
        "Then we can use `floyds_alg` with inputs $x_0 = 1$ and function $f(x)$ to find  $\\lambda$ and thus find $r$!"
      ]
    },
    {
      "cell_type": "code",
      "metadata": {
        "id": "3cRHWJqK-Kze",
        "colab_type": "code",
        "colab": {}
      },
      "source": [
        "def find_order(a, N):\n",
        "\n",
        "  #define our function f\n",
        "  f = lambda x : (a * x) % N\n",
        "\n",
        "  #define our starting point x0\n",
        "  x0 = 1\n",
        "\n",
        "  #compute lambda, the length of the cycle\n",
        "  _, lambda_val = floyds_alg(x0, f)\n",
        "\n",
        "  return lambda_val\n"
      ],
      "execution_count": 0,
      "outputs": []
    },
    {
      "cell_type": "markdown",
      "metadata": {
        "id": "NrnaZMq15VoC",
        "colab_type": "text"
      },
      "source": [
        "## Testing my `find_order` function"
      ]
    },
    {
      "cell_type": "markdown",
      "metadata": {
        "id": "Mg_PfxtF5ZKB",
        "colab_type": "text"
      },
      "source": [
        "###Test 1:\n",
        " I test the following pairs of $a, N$:\n",
        "\n",
        "* $a = 1, N = 5$: then $a \\mbox{ mod } N$ has order $1$.\n",
        "* $a = 2, N = 7$: then $a \\mbox{ mod } N$ has order $3$, since $2^3 = 8 = 1 \\mbox{ mod }7$.\n",
        "\n"
      ]
    },
    {
      "cell_type": "code",
      "metadata": {
        "id": "3rqoQPUaBLLE",
        "colab_type": "code",
        "colab": {
          "base_uri": "https://localhost:8080/",
          "height": 51
        },
        "outputId": "a54c436c-7236-4957-9189-766b3ea36784"
      },
      "source": [
        "order = find_order(1, 5)\n",
        "print(\"1 mod 5 has order \" + str(order))\n",
        "\n",
        "order = find_order(2, 7)\n",
        "print(\"2 mod 7 has order \" + str(order))\n"
      ],
      "execution_count": 5,
      "outputs": [
        {
          "output_type": "stream",
          "text": [
            "1 mod 5 has order 1\n",
            "2 mod 7 has order 3\n"
          ],
          "name": "stdout"
        }
      ]
    },
    {
      "cell_type": "markdown",
      "metadata": {
        "id": "fVy34z8OBjrj",
        "colab_type": "text"
      },
      "source": [
        "Tests successful!"
      ]
    },
    {
      "cell_type": "markdown",
      "metadata": {
        "id": "WlIooBFxA6Wy",
        "colab_type": "text"
      },
      "source": [
        "### Test 2:\n",
        "Now I will make use of Fermat's Little Theorem, which states that for a prime $p$ and any $a$ such that $a \\mbox{ mod } P \\not \\equiv 0$,  we have that $a^{p-1} \\equiv 1 \\mbox{ mod } P$. **Then the true order of $a$ must divide $p-1$.** I will use this to test my order function on large $p$ and $a$.\n",
        "\n",
        "### I will test:\n",
        "\n",
        "* $a = 2020, N = 2017$ (Note that $2017$ is prime and $2020 \\neq 0 \\mbox{ mod }N$)\n",
        "* $a = 13, 666, N = 2027$ (Note that $2027$ is prime and neither $13$ nor $666$ equal $0 \\mbox{ mod } N$) "
      ]
    },
    {
      "cell_type": "code",
      "metadata": {
        "id": "ooc_yvT0DyQO",
        "colab_type": "code",
        "colab": {
          "base_uri": "https://localhost:8080/",
          "height": 85
        },
        "outputId": "3d8ce83a-a5e0-4a14-910d-4705062a7c03"
      },
      "source": [
        "order = find_order(2020, 2017)\n",
        "print(\"2020 mod 2017 has order \" + str(order) + \"\\n\")\n",
        "print(\"Order \" + str(order) + \" divides p - 1 = 2016:\\n \" + str(2016 % order == 0))"
      ],
      "execution_count": 6,
      "outputs": [
        {
          "output_type": "stream",
          "text": [
            "2020 mod 2017 has order 1008\n",
            "\n",
            "Order 1008 divides p - 1 = 2016:\n",
            " True\n"
          ],
          "name": "stdout"
        }
      ]
    },
    {
      "cell_type": "markdown",
      "metadata": {
        "id": "5m1LyAcGEMc1",
        "colab_type": "text"
      },
      "source": [
        "The order of $2020 \\mbox{ mod } 2017$ divides $2016$ as expected!"
      ]
    },
    {
      "cell_type": "code",
      "metadata": {
        "id": "tNrPTC8VEWil",
        "colab_type": "code",
        "colab": {
          "base_uri": "https://localhost:8080/",
          "height": 204
        },
        "outputId": "ed4e3c15-0a18-4403-a870-bd1bd5591f47"
      },
      "source": [
        "order = find_order(13, 2027)\n",
        "print(\"13 mod 2027 has order \" + str(order) + \"\\n\")\n",
        "print(\"Order \" + str(order) + \" divides p - 1 = 2026:\\n \" + str(2026 % order == 0) + \"\\n\\n\\n\")\n",
        "\n",
        "order = find_order(666, 2027)\n",
        "print(\"666 mod 2027 has order \" + str(order) + \"\\n\")\n",
        "print(\"Order \" + str(order) + \" divides p - 1 = 2026:\\n \" + str(2026 % order == 0))"
      ],
      "execution_count": 7,
      "outputs": [
        {
          "output_type": "stream",
          "text": [
            "13 mod 2027 has order 1013\n",
            "\n",
            "Order 1013 divides p - 1 = 2026:\n",
            " True\n",
            "\n",
            "\n",
            "\n",
            "666 mod 2027 has order 1013\n",
            "\n",
            "Order 1013 divides p - 1 = 2026:\n",
            " True\n"
          ],
          "name": "stdout"
        }
      ]
    },
    {
      "cell_type": "markdown",
      "metadata": {
        "id": "37OZa6JlE3nM",
        "colab_type": "text"
      },
      "source": [
        "The order of $13 \\mbox{ mod } 2027$ divides $2026$ as expected! \n",
        "\n",
        "Likewise, the order of $666 \\mbox{ mod } 2027$ divides $2026$ as expected!"
      ]
    },
    {
      "cell_type": "markdown",
      "metadata": {
        "id": "X4O1B_tg9ow7",
        "colab_type": "text"
      },
      "source": [
        "# Problem 3: implementing `factor`\n",
        "Here I implement the `factor` function which finds a nontrivial factor of an input $N$. This function makes use of Miller's algorithm for integer factorization that makes use of order finding in the multiplicative group of integers modulo $N$.\n",
        "\n",
        "**Assumptions:**\n",
        "\n",
        "In this homework problem I assume that $N$ is not prime and that $N$ contains at least two distinct prime factors. This is a reasonable assumption because it can be efficiently checked if a number is prime, or if a number is the power of a prime. I do not know how to implement the algorithms that solve these problems efficiently, so I simply assume $N$ has our desired properties.\n"
      ]
    },
    {
      "cell_type": "code",
      "metadata": {
        "id": "v_zSSwa82Tn5",
        "colab_type": "code",
        "colab": {}
      },
      "source": [
        "from math import gcd\n",
        "from random import randint\n",
        "\n",
        "def factor(N):\n",
        "\n",
        "  #If $N$ is even, return 2. Now we may assume $N$ is odd.\n",
        "  if N % 2 == 0:\n",
        "    return 2\n",
        "\n",
        "  while True:\n",
        "    #pick random integer between 2 and N - 1\n",
        "    a = randint(2, N -1)\n",
        "\n",
        "    #if GCD(a, N) is not 1, then $a$ is a factor of $N$\n",
        "    if gcd(a, N) != 1:\n",
        "      return a\n",
        "    \n",
        "    else:\n",
        "      #we compute the order using `find_order`\n",
        "      r = find_order(a, N)\n",
        "\n",
        "      #if the order is divisible by two\n",
        "      if r % 2 == 0:\n",
        "\n",
        "        #   Miller shows that if $a \\mod N$ has order $r$, then\n",
        "        #   $(a^{r/2} - 1)$ may have a nontrivial factor that is also\n",
        "        #   a factor of $N$, since $(a^{r/2} - 1)(a^{r/2} + 1) = 0 \\mod N$\n",
        "        #   we can find this factor if it exists by computing the gcd of\n",
        "        #   $(a^{r/2} - 1)$ and $N$\n",
        "\n",
        "        f = gcd(a ** (r // 2) - 1, N)\n",
        "\n",
        "        #if $f$ is not trivial\n",
        "        if f != 1 and f != N:\n",
        "          return f\n",
        "\n"
      ],
      "execution_count": 0,
      "outputs": []
    },
    {
      "cell_type": "markdown",
      "metadata": {
        "id": "OE7Y4-D7FSOK",
        "colab_type": "text"
      },
      "source": [
        "## Testing my `factor` function:"
      ]
    },
    {
      "cell_type": "markdown",
      "metadata": {
        "id": "kbUN54OSFaC2",
        "colab_type": "text"
      },
      "source": [
        "### Test 1:\n",
        "I test the following values of $N$:\n",
        "\n",
        "* $N = 323 = 17 * 19$\n",
        "* $N =  17947 = 131 * 137$, ($131$ and $137$ are prime)"
      ]
    },
    {
      "cell_type": "code",
      "metadata": {
        "id": "2ckWOckuGe4g",
        "colab_type": "code",
        "colab": {
          "base_uri": "https://localhost:8080/",
          "height": 85
        },
        "outputId": "1c8736d5-3164-43dc-b3e3-9767fec50580"
      },
      "source": [
        "#N = 323\n",
        "f = factor(323)\n",
        "print(\"323 has nontrivial factor \" + str(f) + \"\\n\\n\")\n",
        "\n",
        "#N = 17947\n",
        "f = factor(17947)\n",
        "print(\"17947 has nontrivial factor \" + str(f))"
      ],
      "execution_count": 9,
      "outputs": [
        {
          "output_type": "stream",
          "text": [
            "323 has nontrivial factor 17\n",
            "\n",
            "\n",
            "17947 has nontrivial factor 131\n"
          ],
          "name": "stdout"
        }
      ]
    },
    {
      "cell_type": "markdown",
      "metadata": {
        "id": "3ArGY1mKHJ2l",
        "colab_type": "text"
      },
      "source": [
        "`factor` produced correct factors of our numbers $n$!"
      ]
    },
    {
      "cell_type": "markdown",
      "metadata": {
        "id": "wQTiKvPoFbY2",
        "colab_type": "text"
      },
      "source": [
        "### Test 2:\n",
        "I now try the $8$th Fermat number, $F_8$!\n",
        "\n",
        "$F_8 = 2^{2^8} + 1$\n",
        "\n",
        "Note that $F_8$ has factors $1238926361552897$ and  $93461639715357977769163558199606896584051237541638188580280321$."
      ]
    },
    {
      "cell_type": "code",
      "metadata": {
        "id": "rVYG9m7xICIT",
        "colab_type": "code",
        "colab": {
          "base_uri": "https://localhost:8080/",
          "height": 340
        },
        "outputId": "3a8a1edc-3ab1-42f5-c8ca-1091bf7f274c"
      },
      "source": [
        "N = 2 ** (2 ** 8) + 1\n",
        "f = factor(N)\n",
        "print(\"The 8th Fermat Number has nontrivial factor \" + str(f))"
      ],
      "execution_count": 10,
      "outputs": [
        {
          "output_type": "error",
          "ename": "KeyboardInterrupt",
          "evalue": "ignored",
          "traceback": [
            "\u001b[0;31m---------------------------------------------------------------------------\u001b[0m",
            "\u001b[0;31mKeyboardInterrupt\u001b[0m                         Traceback (most recent call last)",
            "\u001b[0;32m<ipython-input-10-12bd2f243aec>\u001b[0m in \u001b[0;36m<module>\u001b[0;34m()\u001b[0m\n\u001b[1;32m      1\u001b[0m \u001b[0mN\u001b[0m \u001b[0;34m=\u001b[0m \u001b[0;36m2\u001b[0m \u001b[0;34m**\u001b[0m \u001b[0;34m(\u001b[0m\u001b[0;36m2\u001b[0m \u001b[0;34m**\u001b[0m \u001b[0;36m8\u001b[0m\u001b[0;34m)\u001b[0m \u001b[0;34m+\u001b[0m \u001b[0;36m1\u001b[0m\u001b[0;34m\u001b[0m\u001b[0;34m\u001b[0m\u001b[0m\n\u001b[0;32m----> 2\u001b[0;31m \u001b[0mf\u001b[0m \u001b[0;34m=\u001b[0m \u001b[0mfactor\u001b[0m\u001b[0;34m(\u001b[0m\u001b[0mN\u001b[0m\u001b[0;34m)\u001b[0m\u001b[0;34m\u001b[0m\u001b[0;34m\u001b[0m\u001b[0m\n\u001b[0m\u001b[1;32m      3\u001b[0m \u001b[0mprint\u001b[0m\u001b[0;34m(\u001b[0m\u001b[0;34m\"The 8th Fermat Number has nontrivial factor \"\u001b[0m \u001b[0;34m+\u001b[0m \u001b[0mstr\u001b[0m\u001b[0;34m(\u001b[0m\u001b[0mf\u001b[0m\u001b[0;34m)\u001b[0m\u001b[0;34m)\u001b[0m\u001b[0;34m\u001b[0m\u001b[0;34m\u001b[0m\u001b[0m\n",
            "\u001b[0;32m<ipython-input-8-94d4d4aa93a2>\u001b[0m in \u001b[0;36mfactor\u001b[0;34m(N)\u001b[0m\n\u001b[1;32m     18\u001b[0m     \u001b[0;32melse\u001b[0m\u001b[0;34m:\u001b[0m\u001b[0;34m\u001b[0m\u001b[0;34m\u001b[0m\u001b[0m\n\u001b[1;32m     19\u001b[0m       \u001b[0;31m#we compute the order using `find_order`\u001b[0m\u001b[0;34m\u001b[0m\u001b[0;34m\u001b[0m\u001b[0;34m\u001b[0m\u001b[0m\n\u001b[0;32m---> 20\u001b[0;31m       \u001b[0mr\u001b[0m \u001b[0;34m=\u001b[0m \u001b[0mfind_order\u001b[0m\u001b[0;34m(\u001b[0m\u001b[0ma\u001b[0m\u001b[0;34m,\u001b[0m \u001b[0mN\u001b[0m\u001b[0;34m)\u001b[0m\u001b[0;34m\u001b[0m\u001b[0;34m\u001b[0m\u001b[0m\n\u001b[0m\u001b[1;32m     21\u001b[0m \u001b[0;34m\u001b[0m\u001b[0m\n\u001b[1;32m     22\u001b[0m       \u001b[0;31m#if the order is divisible by two\u001b[0m\u001b[0;34m\u001b[0m\u001b[0;34m\u001b[0m\u001b[0;34m\u001b[0m\u001b[0m\n",
            "\u001b[0;32m<ipython-input-4-b09e0f92bb28>\u001b[0m in \u001b[0;36mfind_order\u001b[0;34m(a, N)\u001b[0m\n\u001b[1;32m      8\u001b[0m \u001b[0;34m\u001b[0m\u001b[0m\n\u001b[1;32m      9\u001b[0m   \u001b[0;31m#compute lambda, the length of the cycle\u001b[0m\u001b[0;34m\u001b[0m\u001b[0;34m\u001b[0m\u001b[0;34m\u001b[0m\u001b[0m\n\u001b[0;32m---> 10\u001b[0;31m   \u001b[0m_\u001b[0m\u001b[0;34m,\u001b[0m \u001b[0mlambda_val\u001b[0m \u001b[0;34m=\u001b[0m \u001b[0mfloyds_alg\u001b[0m\u001b[0;34m(\u001b[0m\u001b[0mx0\u001b[0m\u001b[0;34m,\u001b[0m \u001b[0mf\u001b[0m\u001b[0;34m)\u001b[0m\u001b[0;34m\u001b[0m\u001b[0;34m\u001b[0m\u001b[0m\n\u001b[0m\u001b[1;32m     11\u001b[0m \u001b[0;34m\u001b[0m\u001b[0m\n\u001b[1;32m     12\u001b[0m   \u001b[0;32mreturn\u001b[0m \u001b[0mlambda_val\u001b[0m\u001b[0;34m\u001b[0m\u001b[0;34m\u001b[0m\u001b[0m\n",
            "\u001b[0;32m<ipython-input-1-a3ada5aa0d5a>\u001b[0m in \u001b[0;36mfloyds_alg\u001b[0;34m(x0, f)\u001b[0m\n\u001b[1;32m      7\u001b[0m   \u001b[0;32mwhile\u001b[0m \u001b[0mslow\u001b[0m \u001b[0;34m!=\u001b[0m \u001b[0mfast\u001b[0m\u001b[0;34m:\u001b[0m\u001b[0;34m\u001b[0m\u001b[0;34m\u001b[0m\u001b[0m\n\u001b[1;32m      8\u001b[0m     \u001b[0mslow\u001b[0m \u001b[0;34m=\u001b[0m \u001b[0mf\u001b[0m\u001b[0;34m(\u001b[0m\u001b[0mslow\u001b[0m\u001b[0;34m)\u001b[0m\u001b[0;34m\u001b[0m\u001b[0;34m\u001b[0m\u001b[0m\n\u001b[0;32m----> 9\u001b[0;31m     \u001b[0mfast\u001b[0m \u001b[0;34m=\u001b[0m \u001b[0mf\u001b[0m\u001b[0;34m(\u001b[0m\u001b[0mf\u001b[0m\u001b[0;34m(\u001b[0m\u001b[0mfast\u001b[0m\u001b[0;34m)\u001b[0m\u001b[0;34m)\u001b[0m\u001b[0;34m\u001b[0m\u001b[0;34m\u001b[0m\u001b[0m\n\u001b[0m\u001b[1;32m     10\u001b[0m \u001b[0;34m\u001b[0m\u001b[0m\n\u001b[1;32m     11\u001b[0m   \u001b[0;31m#Now the idea is that the slow pointer and fast pointer are \\gnu iterations\u001b[0m\u001b[0;34m\u001b[0m\u001b[0;34m\u001b[0m\u001b[0;34m\u001b[0m\u001b[0m\n",
            "\u001b[0;32m<ipython-input-4-b09e0f92bb28>\u001b[0m in \u001b[0;36m<lambda>\u001b[0;34m(x)\u001b[0m\n\u001b[1;32m      2\u001b[0m \u001b[0;34m\u001b[0m\u001b[0m\n\u001b[1;32m      3\u001b[0m   \u001b[0;31m#define our function f\u001b[0m\u001b[0;34m\u001b[0m\u001b[0;34m\u001b[0m\u001b[0;34m\u001b[0m\u001b[0m\n\u001b[0;32m----> 4\u001b[0;31m   \u001b[0mf\u001b[0m \u001b[0;34m=\u001b[0m \u001b[0;32mlambda\u001b[0m \u001b[0mx\u001b[0m \u001b[0;34m:\u001b[0m \u001b[0;34m(\u001b[0m\u001b[0ma\u001b[0m \u001b[0;34m*\u001b[0m \u001b[0mx\u001b[0m\u001b[0;34m)\u001b[0m \u001b[0;34m%\u001b[0m \u001b[0mN\u001b[0m\u001b[0;34m\u001b[0m\u001b[0;34m\u001b[0m\u001b[0m\n\u001b[0m\u001b[1;32m      5\u001b[0m \u001b[0;34m\u001b[0m\u001b[0m\n\u001b[1;32m      6\u001b[0m   \u001b[0;31m#define our starting point x0\u001b[0m\u001b[0;34m\u001b[0m\u001b[0;34m\u001b[0m\u001b[0;34m\u001b[0m\u001b[0m\n",
            "\u001b[0;31mKeyboardInterrupt\u001b[0m: "
          ]
        }
      ]
    },
    {
      "cell_type": "markdown",
      "metadata": {
        "id": "Je1m2cwZJKye",
        "colab_type": "text"
      },
      "source": [
        "I let `factor` run for about an hour on $F_8$ before I gave up.\n",
        "\n",
        " The $8$th Fermat number was first factorized by Pollard's $\\rho$ algorithm in $1981$. It took $2$ hours for this algorithm to run on their computing system."
      ]
    },
    {
      "cell_type": "code",
      "metadata": {
        "id": "_-7JqWxpbswU",
        "colab_type": "code",
        "colab": {}
      },
      "source": [
        ""
      ],
      "execution_count": 0,
      "outputs": []
    }
  ]
}
